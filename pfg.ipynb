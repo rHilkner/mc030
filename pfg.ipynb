{
 "cells": [
  {
   "cell_type": "markdown",
   "metadata": {},
   "source": [
    "# MC030 - Projeto final de Graduação\n",
    "## Análise e Previsão do Mercado de Ações"
   ]
  },
  {
   "cell_type": "markdown",
   "metadata": {},
   "source": [
    "## Descrição do modelo\n",
    "\n",
    "A partir de um conjunto de cotações diárias de dólar para real (USD-BRL) desejamos modelar esse comportamento a partir de uma série de indicadores de mercado financeiro para classificarmos cada dia como um momento de compra ou momento de venda."
   ]
  },
  {
   "cell_type": "markdown",
   "metadata": {},
   "source": [
    "# ..."
   ]
  },
  {
   "cell_type": "markdown",
   "metadata": {},
   "source": [
    "# Código"
   ]
  },
  {
   "cell_type": "markdown",
   "metadata": {},
   "source": [
    "### Definindo endpoints da API (https://www.alphavantage.co/documentation/)"
   ]
  },
  {
   "cell_type": "code",
   "execution_count": 1,
   "metadata": {},
   "outputs": [],
   "source": [
    "apiToken = '3GX5M109KQK9B6HO'\n",
    "baseUrl = 'https://www.alphavantage.co/query?&outputsize=full&apikey=' + apiToken\n",
    "usdBrlUrl = 'https://www.alphavantage.co/query?function=FX_DAILY&from_symbol=USD&to_symbol=BRL&outputsize=full&apikey=' + apiToken\n",
    "stockUrl = 'https://www.alphavantage.co/query?function=TIME_SERIES_DAILY_ADJUSTED&symbol=MSFT&outputsize=full&apikey=demo'"
   ]
  },
  {
   "cell_type": "markdown",
   "metadata": {},
   "source": [
    "### Obtendo dados da API"
   ]
  },
  {
   "cell_type": "code",
   "execution_count": 2,
   "metadata": {},
   "outputs": [],
   "source": [
    "import requests\n",
    "import json\n",
    "import time\n",
    "\n",
    "callsMade = 0\n",
    "\n",
    "def incrementAndVerifyCallsMade():\n",
    "    global callsMade\n",
    "    callsMade += 1\n",
    "    if callsMade == 5:\n",
    "        print('Made 5 requests to the API in the last minute - sleeping for 1 minute')\n",
    "        time.sleep(65)\n",
    "        callsMade = 0\n",
    "\n",
    "# returns [{date: {open, close, high, low, volume}}]\n",
    "# all data is normalized/adjusted according to splits and dividends\n",
    "def getStockPrice(stockSymbol):\n",
    "    stockUrl = baseUrl + '&function=TIME_SERIES_DAILY_ADJUSTED&symbol=' + stockSymbol\n",
    "    print('Fetching ' + stockUrl)\n",
    "    incrementAndVerifyCallsMade()\n",
    "    stocksRetrieved = requests.get(stockUrl).json();\n",
    "    stocks = parseAndAdjustPrice(stocksRetrieved['Time Series (Daily)'])\n",
    "    print('Retrieved and parsed '+ stockSymbol)\n",
    "    return stocks"
   ]
  },
  {
   "cell_type": "markdown",
   "metadata": {},
   "source": [
    "### Parseando dados da API"
   ]
  },
  {
   "cell_type": "code",
   "execution_count": 3,
   "metadata": {},
   "outputs": [],
   "source": [
    "def parseAndAdjustPrice(stocksRetrieved):\n",
    "    stockPrices = {}\n",
    "    splitFactor = 1.0\n",
    "    dividendsFactor = 1.0\n",
    "    i = 0\n",
    "    \n",
    "    for date in reversed(sorted(stocksRetrieved.keys())):\n",
    "        # Calculando valores ajustados\n",
    "        todayOpen = float(stocksRetrieved[date]['1. open']) * dividendsFactor / splitFactor\n",
    "        todayHigh = float(stocksRetrieved[date]['2. high']) * dividendsFactor / splitFactor\n",
    "        todayLow = float(stocksRetrieved[date]['3. low']) * dividendsFactor / splitFactor\n",
    "        todayClose = float(stocksRetrieved[date]['4. close']) * dividendsFactor / splitFactor\n",
    "        todayVolume = float(stocksRetrieved[date]['6. volume']) * splitFactor\n",
    "        \n",
    "#         # Analisando possível erro -- nao funciona por razões de arredondamento (api deve ter dados com mais casas decimais)\n",
    "#         if (int(todayClose*10000) != int(float(stocksRetrieved[date]['5. adjusted close'])*10000)):\n",
    "#             print('Adjusted values dont match: (calculated) ' + str(int(todayClose*10000)) + ' vs ' + str(int(float(stocksRetrieved[date]['5. adjusted close'])*10000)) + ' (api)')\n",
    "#             print('Aborting operation')\n",
    "#             raise Exception('Adjusted values dont match')\n",
    "        \n",
    "        stockPrices[date] = {\n",
    "            'open': todayOpen,\n",
    "            'close': todayClose,\n",
    "            'high': todayHigh,\n",
    "            'low': todayLow,\n",
    "            'volume': todayVolume,\n",
    "        }\n",
    "\n",
    "        # Calculando fatores históricos de split e dividendos (que irão afetar datas antes da atual)\n",
    "        if (i+1 < len(stocksRetrieved.keys())):\n",
    "            yesterdayDate = list(reversed(sorted(stocksRetrieved.keys())))[i+1]\n",
    "            yesterdayClose = float(stocksRetrieved[yesterdayDate]['4. close'])\n",
    "            splitFactor *= float(stocksRetrieved[date]['8. split coefficient'])\n",
    "            dividendsFactor *= (yesterdayClose-float(stocksRetrieved[date]['7. dividend amount']))/yesterdayClose\n",
    "            i += 1\n",
    "        \n",
    "    print('Preço final normalizado (calculado): ' + str(stockPrices[sorted(stockPrices.keys())[0]]['close'])\n",
    "         + ' | ' + sorted(stockPrices.keys())[0])\n",
    "    print('Preço final normalizado (api): ' + str(stocksRetrieved[sorted(stocksRetrieved.keys())[0]]['5. adjusted close'])\n",
    "         + ' | ' + sorted(stocksRetrieved.keys())[0])\n",
    "        \n",
    "    return stockPrices\n",
    "\n",
    "# returns [{date: price}]\n",
    "def simplifyStockPrices(stockPrices):\n",
    "    stockPricesSimplified = {}\n",
    "    for date, stockData in stockPrices.items():\n",
    "        stockPricesSimplified[date] = stockData['open']\n",
    "    return stockPricesSimplified"
   ]
  },
  {
   "cell_type": "markdown",
   "metadata": {},
   "source": [
    "### Obtendo indicadores"
   ]
  },
  {
   "cell_type": "code",
   "execution_count": 4,
   "metadata": {},
   "outputs": [],
   "source": [
    "from talib.abstract import *\n",
    "import numpy as np\n",
    "\n",
    "# returns [date: [{indicatorFunction: indicatorValue}]]\n",
    "def getIndicator(indicatorFunction, stockPrices):\n",
    "    indicator = {}\n",
    "    opens, highs, lows, closes, volumes = [], [], [], [], []\n",
    "    \n",
    "    for date in sorted(stockPrices.keys()):\n",
    "        opens.append(stockPrices[date]['open'])\n",
    "        highs.append(stockPrices[date]['high'])\n",
    "        lows.append(stockPrices[date]['low'])\n",
    "        closes.append(stockPrices[date]['close'])\n",
    "        volumes.append(stockPrices[date]['volume'])\n",
    "    \n",
    "    inputs = {\n",
    "        'open': np.array(opens),\n",
    "        'high': np.array(highs),\n",
    "        'low': np.array(lows),\n",
    "        'close': np.array(closes),\n",
    "        'volume': np.array(volumes)\n",
    "    }\n",
    "    \n",
    "    if indicatorFunction=='SMA':\n",
    "        indicatorList = SMA(inputs, timeperiod=10, price='open')\n",
    "    elif indicatorFunction=='EMA':\n",
    "        indicatorList = EMA(inputs, timeperiod=10, price='open')\n",
    "    elif indicatorFunction=='MACD':\n",
    "        indicatorUrl += '&fastperiod=12&slowperiod=26&signalperiod=9'\n",
    "    elif indicatorFunction=='RSI':\n",
    "        indicatorUrl += '&time_period=10'\n",
    "    elif indicatorFunction=='ADX':\n",
    "        indicatorUrl += '&time_period=10'\n",
    "    elif indicatorFunction=='CCI':\n",
    "        indicatorUrl += '&time_period=10'\n",
    "    elif indicatorFunction=='MOM':\n",
    "        indicatorUrl += '&time_period=10'\n",
    "    elif indicatorFunction=='WILLR':\n",
    "        indicatorUrl += '&time_period=10'\n",
    "    elif indicatorFunction=='AD':\n",
    "        indicatorUrl += '&time_period=10'\n",
    "    elif indicatorFunction=='ADOSC':\n",
    "        indicatorUrl += '&time_period=10'\n",
    "    elif indicatorFunction=='OBV':\n",
    "        indicatorUrl += '&time_period=10'\n",
    "    \n",
    "    i = 0\n",
    "    indicators = {}\n",
    "    for date in sorted(stockPrices.keys()):\n",
    "        indicators[date] = {indicatorFunction: indicatorList[i]}\n",
    "        i += 1\n",
    "        \n",
    "    print('Calculated and parsed indicator ' + indicatorFunction)\n",
    "    return indicators\n",
    "\n",
    "# returns [date: [{indicatorFunction: indicatorValue}]]\n",
    "def getIndicatorList(indicatorFunctions, stockPrices):\n",
    "    indicators = {}\n",
    "    for indicatorFunction in indicatorFunctions:\n",
    "        indicatorDict = getIndicator(indicatorFunction, stockPrices)\n",
    "        for date, indicator in indicatorDict.items():\n",
    "            for indicatorFunction, indicatorValue in indicator.items():\n",
    "                if  date not in indicators:\n",
    "                    indicators[date] = {}\n",
    "                indicators[date][indicatorFunction] = indicatorValue\n",
    "    return indicators"
   ]
  },
  {
   "cell_type": "code",
   "execution_count": 5,
   "metadata": {},
   "outputs": [],
   "source": [
    "# Filtrando dados válidos - apenas aqueles cujas datas estão na lista de preços e de indicadores\n",
    "def filterData(prices, indicators, indicatorFunctions):\n",
    "    filteredPrices = {date: price for date, price in prices.items() if date in indicators.keys()}\n",
    "    filteredIndicators = {date: indicators for date, indicators in indicators.items() if date in prices.keys()}\n",
    "    return filteredPrices, filteredIndicators\n",
    "\n",
    "def getData(stockSymbol, indicatorFunctions):\n",
    "    stockPricesDetailed = getStockPrice(stockSymbol)\n",
    "    indicators = getIndicatorList(indicatorFunctions, stockPricesDetailed)\n",
    "    stockPrices = simplifyStockPrices(stockPricesDetailed)\n",
    "    stockPrices, indicators = filterData(stockPrices, indicators, indicatorFunctions)\n",
    "    return stockPrices, indicators"
   ]
  },
  {
   "cell_type": "markdown",
   "metadata": {},
   "source": [
    "### Métodos de anotação de dados"
   ]
  },
  {
   "cell_type": "code",
   "execution_count": 6,
   "metadata": {},
   "outputs": [],
   "source": [
    "import collections\n",
    "\n",
    "def annotateBuyOrSellTwoClasses(prices):\n",
    "    dateAnnotated = {}\n",
    "    yesterdayDate = ''\n",
    "    earlierDate = ''\n",
    "    last = ''\n",
    "    for key, value in prices.items():\n",
    "        yesterdayDate = key\n",
    "        yesterdayPrice = float(value)\n",
    "        break\n",
    "    for date, price in prices.items():\n",
    "        if float(price) > yesterdayPrice:\n",
    "            dateAnnotated[yesterdayDate] = 'B'\n",
    "            last = 'B'\n",
    "        elif float(price) < yesterdayPrice:\n",
    "            dateAnnotated[yesterdayDate] = 'S'\n",
    "            last = 'S'\n",
    "        else:\n",
    "            dateAnnotated[yesterdayDate] = last\n",
    "        yesterdayDate = date\n",
    "        yesterdayPrice = float(price)\n",
    "    return dateAnnotated\n",
    "\n",
    "def annotateBuyOrSellEightClasses(prices):\n",
    "    dateAnnotated = {}\n",
    "    yesterdayDate = ''\n",
    "    earlierDate = ''\n",
    "    last = ''\n",
    "    for key, value in prices.items():\n",
    "        yesterdayDate = key\n",
    "        yesterdayPrice = float(value)\n",
    "        break\n",
    "    for date, price in prices.items():\n",
    "        if float(price) > yesterdayPrice and float(price)/yesterdayPrice <= 1.005:\n",
    "            dateAnnotated[yesterdayDate] = 'B0'\n",
    "            last = 'B0'\n",
    "        elif float(price) > yesterdayPrice and float(price)/yesterdayPrice <= 1.01:\n",
    "            dateAnnotated[yesterdayDate] = 'B1'\n",
    "            last = 'B1'\n",
    "        elif float(price) > yesterdayPrice and float(price)/yesterdayPrice <= 1.02:\n",
    "            dateAnnotated[yesterdayDate] = 'B2'\n",
    "            last = 'B2'\n",
    "        elif float(price) > yesterdayPrice and float(price)/yesterdayPrice > 1.02:\n",
    "            dateAnnotated[yesterdayDate] = 'B3'\n",
    "            last = 'B3'\n",
    "        elif float(price) < yesterdayPrice and float(price)/yesterdayPrice >= .995:\n",
    "            dateAnnotated[yesterdayDate] = 'S0'\n",
    "            last = 'S0'\n",
    "        elif float(price) < yesterdayPrice and float(price)/yesterdayPrice >= .99:\n",
    "            dateAnnotated[yesterdayDate] = 'S1'\n",
    "            last = 'S1'\n",
    "        elif float(price) < yesterdayPrice and float(price)/yesterdayPrice >= .98:\n",
    "            dateAnnotated[yesterdayDate] = 'S2'\n",
    "            last = 'S2'\n",
    "        elif float(price) < yesterdayPrice and float(price)/yesterdayPrice < .98:\n",
    "            dateAnnotated[yesterdayDate] = 'S3'\n",
    "            last = 'S3'\n",
    "        else:\n",
    "            dateAnnotated[yesterdayDate] = last\n",
    "        yesterdayDate = date\n",
    "        yesterdayPrice = float(price)\n",
    "    return dateAnnotated\n",
    "\n",
    "def annotateMaxProfit(prices):\n",
    "    dateAnnotated = {}\n",
    "    yesterdayDate = ''\n",
    "    yesterdayPrice = 0\n",
    "    currentStatus = ''\n",
    "    for key, value in prices.items():\n",
    "        yesterdayDate = key\n",
    "        yesterdayPrice = value\n",
    "        break\n",
    "    for date, price in prices.items():\n",
    "        if price > yesterdayPrice and currentStatus != 'B':\n",
    "            dateAnnotated[yesterdayDate] = 'B'\n",
    "            currentStatus = 'B'\n",
    "        elif price < yesterdayPrice and currentStatus != 'S':\n",
    "            dateAnnotated[yesterdayDate] = 'S'\n",
    "            currentStatus = 'S'\n",
    "        yesterdayDate = date\n",
    "        yesterdayPrice = price\n",
    "    return dateAnnotated"
   ]
  },
  {
   "cell_type": "markdown",
   "metadata": {},
   "source": [
    "### Normalização dos dados"
   ]
  },
  {
   "cell_type": "code",
   "execution_count": 7,
   "metadata": {},
   "outputs": [],
   "source": [
    "import copy\n",
    "\n",
    "# Normaliza um conjunto de indicadores a partir do preço da ação\n",
    "def normalizeIndicators(indicatorSet, stockPrice):\n",
    "    normalizedIndicatorSet = {}\n",
    "    for indicatorFunction, indicatorValue in indicatorSet.items():\n",
    "        normalizedIndicatorSet[indicatorFunction] = float(indicatorValue)/float(stockPrice)\n",
    "    return normalizedIndicatorSet\n",
    "\n",
    "# Retorna os indicadores normalizados: indicadores = [date: {indicators: ['SMA': 0.89, 'EMA': 0.93], annotation: 'B'}]\n",
    "def getIndicatorsNormalizedAndAnnotaded(stockPrices, indicators, dateAnnotated):\n",
    "    print('Normalizing and annotating indicators')\n",
    "    indicatorsAnnotated = {}\n",
    "    for date, annotation in dateAnnotated.items():\n",
    "        if date not in indicatorsAnnotated:\n",
    "            indicatorsAnnotated[date] = {'indicators': {}, 'annotation': ''}\n",
    "        indicatorsAnnotated[date]['indicators'] = normalizeIndicators(indicators[date], stockPrices[date])\n",
    "        indicatorsAnnotated[date]['annotation'] = annotation\n",
    "    return indicatorsAnnotated"
   ]
  },
  {
   "cell_type": "markdown",
   "metadata": {},
   "source": [
    "### Machine Learning"
   ]
  },
  {
   "cell_type": "code",
   "execution_count": 8,
   "metadata": {},
   "outputs": [
    {
     "name": "stderr",
     "output_type": "stream",
     "text": [
      "Using TensorFlow backend.\n"
     ]
    }
   ],
   "source": [
    "import keras\n",
    "adam = keras.optimizers.Adam(learning_rate=0.001, beta_1=0.9, beta_2=0.999, amsgrad=False)\n",
    "\n",
    "def getModelMLP(n_steps, n_features, n_outputs):\n",
    "    model = keras.models.Sequential()\n",
    "    model.add(keras.layers.Dense(n_steps*n_features*2, activation='relu', input_shape=(n_steps*n_features,)))\n",
    "    model.add(keras.layers.Dropout(0.3))\n",
    "    model.add(keras.layers.Dense(n_steps*n_features*2, activation='relu'))\n",
    "    model.add(keras.layers.Dropout(0.3))\n",
    "    if (n_outputs > 1):\n",
    "        activation = 'softmax'\n",
    "        loss = 'categorical_crossentropy'\n",
    "    else:\n",
    "        activation = 'sigmoid'\n",
    "        loss = 'binary_crossentropy'\n",
    "    model.add(keras.layers.Dense(n_outputs, activation=activation))\n",
    "    model.compile(loss=loss, optimizer=adam, metrics=['accuracy'])\n",
    "    return model\n",
    "\n",
    "def getModelLSTM(n_steps, n_features, n_outputs):    \n",
    "    model = keras.models.Sequential()\n",
    "    model.add(keras.layers.LSTM(n_steps*n_features*2, activation='relu', input_shape=(n_steps, n_features)))\n",
    "    if (n_outputs > 1):\n",
    "        activation = 'softmax'\n",
    "        loss = 'categorical_crossentropy'\n",
    "    else:\n",
    "        activation = 'sigmoid'\n",
    "        loss = 'binary_crossentropy'\n",
    "    model.add(keras.layers.Dense(n_outputs, activation=activation))\n",
    "    model.compile(loss=loss, optimizer=adam, metrics=['accuracy'])\n",
    "    return model\n",
    "\n",
    "def getModelBidirectionalLSTM(n_steps, n_features, n_outputs):    \n",
    "    model = keras.models.Sequential()\n",
    "    model.add(keras.layers.Bidirectional(keras.layers.LSTM(n_steps*n_features*2, activation='relu'), input_shape=(n_steps, n_features)))\n",
    "    if (n_outputs > 1):\n",
    "        activation = 'softmax'\n",
    "        loss = 'categorical_crossentropy'\n",
    "    else:\n",
    "        activation = 'sigmoid'\n",
    "        loss = 'binary_crossentropy'\n",
    "    model.add(keras.layers.Dense(n_outputs, activation=activation))\n",
    "    model.compile(loss=loss, optimizer=adam, metrics=['accuracy'])\n",
    "    return model\n",
    "\n",
    "def getModelCNN(n_steps, n_features):\n",
    "    model = keras.models.Sequential()\n",
    "    model.add(keras.layers.Conv1D(filters=64, kernel_size=2, activation='relu', input_shape=(n_steps, n_features)))\n",
    "    model.add(keras.layers.Conv1D(filters=64, kernel_size=2, activation='relu'))\n",
    "    model.add(keras.layers.Flatten())\n",
    "    model.add(keras.layers.Dense(50, activation='relu'))\n",
    "    if (n_outputs > 1):\n",
    "        activation = 'softmax'\n",
    "        loss = 'categorical_crossentropy'\n",
    "    else:\n",
    "        activation = 'sigmoid'\n",
    "        loss = 'binary_crossentropy'\n",
    "    model.add(keras.layers.Dense(n_outputs, activation=activation))\n",
    "    model.compile(loss=loss, optimizer='adam', metrics=['accuracy'])\n",
    "    return model"
   ]
  },
  {
   "cell_type": "markdown",
   "metadata": {},
   "source": [
    "### Análise de dados"
   ]
  },
  {
   "cell_type": "code",
   "execution_count": 9,
   "metadata": {},
   "outputs": [],
   "source": [
    "import itertools\n",
    "import matplotlib.pyplot as plt\n",
    "\n",
    "from sklearn.metrics import classification_report, accuracy_score, confusion_matrix\n",
    "from sklearn.utils.multiclass import unique_labels\n",
    "\n",
    "def plot_confusion_matrix(y_true, y_pred, classes,\n",
    "                          normalize=False,\n",
    "                          title=None,\n",
    "                          cmap=plt.cm.Blues):\n",
    "    \"\"\"\n",
    "    This function prints and plots the confusion matrix.\n",
    "    Normalization can be applied by setting `normalize=True`.\n",
    "    \"\"\"\n",
    "    if not title:\n",
    "        if normalize:\n",
    "            title = 'Normalized confusion matrix'\n",
    "        else:\n",
    "            title = 'Confusion matrix, without normalization'\n",
    "\n",
    "    # Compute confusion matrix\n",
    "    cm = confusion_matrix(y_true, y_pred)\n",
    "    # Only use the labels that appear in the data\n",
    "    classes = classes[unique_labels(y_true, y_pred)]\n",
    "    if normalize:\n",
    "        cm = cm.astype('float') / cm.sum(axis=1)[:, np.newaxis]\n",
    "        print(\"Normalized confusion matrix\")\n",
    "    else:\n",
    "        print('Confusion matrix, without normalization')\n",
    "\n",
    "    print(cm)\n",
    "\n",
    "    accuracy = np.trace(cm) / np.sum(cm).astype('float')\n",
    "    misclass = 1 - accuracy\n",
    "\n",
    "    if cmap is None:\n",
    "        cmap = plt.get_cmap('Blues')\n",
    "\n",
    "    plt.imshow(cm, interpolation='nearest', cmap=cmap)\n",
    "    plt.title(title)\n",
    "    plt.colorbar()\n",
    "\n",
    "    tick_marks = np.arange(len(classes))\n",
    "    plt.xticks(tick_marks, classes, rotation=45)\n",
    "    plt.yticks(tick_marks, classes)\n",
    "\n",
    "\n",
    "    thresh = cm.max() / 1.5 if normalize else cm.max() / 2\n",
    "    for i, j in itertools.product(range(cm.shape[0]), range(cm.shape[1])):\n",
    "        if normalize:\n",
    "            plt.text(j, i, \"{:0.4f}\".format(cm[i, j]),\n",
    "                     horizontalalignment=\"center\",\n",
    "                     color=\"white\" if cm[i, j] > thresh else \"black\")\n",
    "        else:\n",
    "            plt.text(j, i, \"{:,}\".format(cm[i, j]),\n",
    "                     horizontalalignment=\"center\",\n",
    "                     color=\"white\" if cm[i, j] > thresh else \"black\")\n",
    "\n",
    "\n",
    "    plt.tight_layout()\n",
    "    plt.ylabel('True label')\n",
    "    plt.xlabel('Predicted label\\naccuracy={:0.4f}; misclass={:0.4f}'.format(accuracy, misclass))\n",
    "    plt.show()\n",
    "    return cm"
   ]
  },
  {
   "cell_type": "markdown",
   "metadata": {},
   "source": [
    "### Main"
   ]
  },
  {
   "cell_type": "code",
   "execution_count": 10,
   "metadata": {
    "scrolled": true
   },
   "outputs": [
    {
     "name": "stdout",
     "output_type": "stream",
     "text": [
      "Fetching https://www.alphavantage.co/query?&outputsize=full&apikey=3GX5M109KQK9B6HO&function=TIME_SERIES_DAILY_ADJUSTED&symbol=MSFT\n",
      "Preço final normalizado (calculado): 29.311284084356068 - 1999-11-26\n",
      "Preço final normalizado (api): 29.3751 - 1999-11-26\n",
      "Retrieved and parsed MSFT\n",
      "Calculated and parsed indicator SMA\n"
     ]
    }
   ],
   "source": [
    "# Cheat-sheet com os simbolos\n",
    "__indicatorSymbols = ['SMA', 'EMA', 'WMA', 'DEMA', 'TEMA', 'TRIMA', 'KAMA', 'MAMA',\n",
    "                      'T3', 'MACD', 'MACDEXT', 'STOCH', 'STOCHF', 'RSI', 'STOCHRSI', 'WILLR', \n",
    "                      'ADX', 'ADXR', 'APO', 'PPO', 'MOM', 'BOP', 'CCI', 'CMO', 'ROC', 'ROCR',\n",
    "                      'AROON', 'AROONOSC', 'MFI', 'TRIX', 'ULTOSC', 'DX', 'MINUS_DI', 'PLUS_DI',\n",
    "                      'MINUS_DM', 'PLUS_DM', 'BBANDS', 'MIDPOINT', 'SAR', 'TRANGE', 'ATR',\n",
    "                      'NATR', 'AD', 'ADOSC', 'OBV', 'HT_TRENDLINE', 'HT_SINE', 'HT_TRENDMODE',\n",
    "                      'HT_DCPERIOD', 'HT_DCPHASE', 'HT_PHASOR']\n",
    "__forexSymbols = ['BRL', 'EUR']\n",
    "__stockSymbols = ['MSFT']\n",
    "\n",
    "# Definindo simbolos para o modelo\n",
    "indicatorFunctions = {}\n",
    "indicatorFunctions[1] = ['SMA']\n",
    "indicatorFunctions[3] = ['SMA', 'EMA', 'WMA']\n",
    "indicatorFunctions[6] = ['SMA', 'EMA', 'MACD', 'RSI', 'ADX', 'CCI'] #'AD', 'OBV']\n",
    "indicatorFunctions[8] = ['SMA', 'EMA', 'MACD', 'RSI', 'ADX', 'CCI', 'MOM', 'WILLR'] #'AD', 'OBV', 'ADOSC']\n",
    "stockSymbol = 'MSFT'\n",
    "\n",
    "stockPrices, indicators = getData(stockSymbol, indicatorFunctions[1])\n",
    "# forexPrices, indicators = getForexData(fromForexSymbol, toForexSymbol, indicatorFunctions)\n",
    "# dateAnnotated = annotateMaxProfit(stockPrices)"
   ]
  },
  {
   "cell_type": "code",
   "execution_count": 11,
   "metadata": {},
   "outputs": [],
   "source": [
    "import pandas as pd\n",
    "\n",
    "df = pd.DataFrame.from_dict(stockPrices, orient='index')"
   ]
  },
  {
   "cell_type": "code",
   "execution_count": 12,
   "metadata": {},
   "outputs": [],
   "source": [
    "df[0] = df[0].astype('float')"
   ]
  },
  {
   "cell_type": "code",
   "execution_count": 13,
   "metadata": {},
   "outputs": [],
   "source": [
    "# df.loc[df.index<'2003-02-18'] = df.loc[df.index<'2003-02-18']/2"
   ]
  },
  {
   "cell_type": "code",
   "execution_count": 14,
   "metadata": {},
   "outputs": [],
   "source": [
    "div = df[0].astype('float').div(df[0].astype('float').shift(-1))"
   ]
  },
  {
   "cell_type": "code",
   "execution_count": 15,
   "metadata": {
    "scrolled": true
   },
   "outputs": [
    {
     "data": {
      "text/plain": [
       "<matplotlib.axes._subplots.AxesSubplot at 0x12d60f710>"
      ]
     },
     "execution_count": 15,
     "metadata": {},
     "output_type": "execute_result"
    },
    {
     "data": {
      "image/png": "[encoded data removed]",
      "text/plain": [
       "<Figure size 432x288 with 1 Axes>"
      ]
     },
     "metadata": {
      "needs_background": "light"
     },
     "output_type": "display_data"
    }
   ],
   "source": [
    "df.sort_index(inplace=True)\n",
    "df[0].astype('float').plot()"
   ]
  },
  {
   "cell_type": "code",
   "execution_count": 16,
   "metadata": {},
   "outputs": [
    {
     "data": {
      "text/plain": [
       "<matplotlib.axes._subplots.AxesSubplot at 0x12f8f4390>"
      ]
     },
     "execution_count": 16,
     "metadata": {},
     "output_type": "execute_result"
    },
    {
     "data": {
      "image/png": "[encoded data removed]",
      "text/plain": [
       "<Figure size 432x288 with 1 Axes>"
      ]
     },
     "metadata": {
      "needs_background": "light"
     },
     "output_type": "display_data"
    }
   ],
   "source": [
    "div.sort_index(inplace=True)\n",
    "div.plot()"
   ]
  },
  {
   "cell_type": "code",
   "execution_count": 17,
   "metadata": {
    "scrolled": true
   },
   "outputs": [
    {
     "data": {
      "text/plain": [
       "count    5033.000000\n",
       "mean        1.000495\n",
       "std         0.018362\n",
       "min         0.855380\n",
       "1%          0.951281\n",
       "10%         0.981728\n",
       "25%         0.991927\n",
       "50%         1.000361\n",
       "75%         1.008711\n",
       "90%         1.019803\n",
       "95%         1.027438\n",
       "99%         1.052547\n",
       "max         1.177514\n",
       "Name: 0, dtype: float64"
      ]
     },
     "execution_count": 17,
     "metadata": {},
     "output_type": "execute_result"
    }
   ],
   "source": [
    "div.describe(percentiles=[.01,.1,.25,.5,.75,.9,.95,.99])"
   ]
  },
  {
   "cell_type": "code",
   "execution_count": 18,
   "metadata": {},
   "outputs": [
    {
     "data": {
      "text/plain": [
       "1999-11-26         NaN\n",
       "1999-11-29    0.983628\n",
       "1999-11-30    0.995894\n",
       "1999-12-01    1.014596\n",
       "1999-12-02    1.021964\n",
       "                ...   \n",
       "2019-11-21    0.993946\n",
       "2019-11-22    1.004485\n",
       "2019-11-25    0.999534\n",
       "2019-11-26    1.009067\n",
       "2019-11-27    1.006409\n",
       "Name: 0, Length: 5034, dtype: float64"
      ]
     },
     "execution_count": 18,
     "metadata": {},
     "output_type": "execute_result"
    }
   ],
   "source": [
    "div"
   ]
  },
  {
   "cell_type": "code",
   "execution_count": 19,
   "metadata": {},
   "outputs": [
    {
     "data": {
      "text/plain": [
       "S    2571\n",
       "B    2462\n",
       "Name: 0, dtype: int64"
      ]
     },
     "execution_count": 19,
     "metadata": {},
     "output_type": "execute_result"
    }
   ],
   "source": [
    "dateAnnotated = {}\n",
    "\n",
    "dateAnnotated[2] = annotateBuyOrSellTwoClasses(stockPrices)\n",
    "df = pd.DataFrame.from_dict(dateAnnotated[2], orient='index')\n",
    "df[0].value_counts()"
   ]
  },
  {
   "cell_type": "code",
   "execution_count": 20,
   "metadata": {},
   "outputs": [
    {
     "data": {
      "text/plain": [
       "S0    811\n",
       "B0    808\n",
       "S2    643\n",
       "S1    639\n",
       "B2    616\n",
       "B1    590\n",
       "S3    478\n",
       "B3    448\n",
       "Name: 0, dtype: int64"
      ]
     },
     "execution_count": 20,
     "metadata": {},
     "output_type": "execute_result"
    }
   ],
   "source": [
    "dateAnnotated[8] = annotateBuyOrSellEightClasses(stockPrices)\n",
    "df = pd.DataFrame.from_dict(dateAnnotated[8], orient='index')\n",
    "df[0].value_counts()"
   ]
  },
  {
   "cell_type": "code",
   "execution_count": 21,
   "metadata": {},
   "outputs": [
    {
     "name": "stdout",
     "output_type": "stream",
     "text": [
      "Normalizing and annotating indicators\n",
      "Normalizing and annotating indicators\n"
     ]
    }
   ],
   "source": [
    "import pandas as pd\n",
    "\n",
    "normalizedIndicators = {}\n",
    "normalizedIndicators[2] = getIndicatorsNormalizedAndAnnotaded(stockPrices, indicators, dateAnnotated[2])\n",
    "normalizedIndicators[8] = getIndicatorsNormalizedAndAnnotaded(stockPrices, indicators, dateAnnotated[8])\n",
    "\n",
    "data = {}\n",
    "data[2] = pd.DataFrame.from_dict(normalizedIndicators[2], orient='index')\n",
    "data[8] = pd.DataFrame.from_dict(normalizedIndicators[8], orient='index')"
   ]
  },
  {
   "cell_type": "code",
   "execution_count": 22,
   "metadata": {},
   "outputs": [],
   "source": [
    "data[2] = pd.DataFrame.merge(pd.DataFrame(data[2].indicators.values.tolist(), index=data[2].index), data[2], left_index=True, right_index=True, how='outer').drop(columns=['indicators'])\n",
    "data[8] = pd.DataFrame.merge(pd.DataFrame(data[8].indicators.values.tolist(), index=data[8].index), data[8], left_index=True, right_index=True, how='outer').drop(columns=['indicators'])"
   ]
  },
  {
   "cell_type": "code",
   "execution_count": 23,
   "metadata": {},
   "outputs": [
    {
     "data": {
      "text/plain": [
       "(                 SMA annotation\n",
       " 2019-11-27  0.983618          S\n",
       " 2019-11-26  0.985900          S\n",
       " 2019-11-25  0.991121          B\n",
       " 2019-11-22  0.987225          S\n",
       " 2019-11-21  0.987250          B,                  SMA annotation\n",
       " 2019-11-27  0.983618         S1\n",
       " 2019-11-26  0.985900         S1\n",
       " 2019-11-25  0.991121         B0\n",
       " 2019-11-22  0.987225         S0\n",
       " 2019-11-21  0.987250         B1)"
      ]
     },
     "execution_count": 23,
     "metadata": {},
     "output_type": "execute_result"
    }
   ],
   "source": [
    "data[2].head(), data[8].head()"
   ]
  },
  {
   "cell_type": "code",
   "execution_count": 24,
   "metadata": {},
   "outputs": [],
   "source": [
    "data[2].annotation = data[2].annotation.apply(lambda x: 0 if x == 'S' else 1)\n",
    "\n",
    "eight_dict = {\"B3\":0, \"B2\": 1, \"B1\": 2, \"B0\": 3, \"S0\": 4, \"S1\": 5, \"S2\": 6, \"S3\": 7}\n",
    "data[8].annotation = data[8].annotation.apply(lambda x: eight_dict[x])"
   ]
  },
  {
   "cell_type": "code",
   "execution_count": 25,
   "metadata": {},
   "outputs": [],
   "source": [
    "data[2] = data[2].sort_index()\n",
    "data[8] = data[8].sort_index()"
   ]
  },
  {
   "cell_type": "code",
   "execution_count": 26,
   "metadata": {},
   "outputs": [],
   "source": [
    "data[2] = data[2].dropna()\n",
    "data[8] = data[8].dropna()"
   ]
  },
  {
   "cell_type": "code",
   "execution_count": 27,
   "metadata": {},
   "outputs": [
    {
     "data": {
      "text/plain": [
       "(5025, 5025)"
      ]
     },
     "execution_count": 27,
     "metadata": {},
     "output_type": "execute_result"
    }
   ],
   "source": [
    "len(data[2]), len(data[8])"
   ]
  },
  {
   "cell_type": "code",
   "execution_count": 28,
   "metadata": {},
   "outputs": [],
   "source": [
    "from sklearn.feature_selection import SelectKBest\n",
    "from sklearn.feature_selection import f_classif\n",
    "from sklearn.ensemble import ExtraTreesClassifier\n",
    "import seaborn as sns\n",
    "\n",
    "data_analysis = pd.DataFrame.merge(data[2], div, left_index=True, right_index=True, how='inner')\n",
    "X = data_analysis.iloc[:,:8]\n",
    "y = data_analysis.iloc[:,-1:]"
   ]
  },
  {
   "cell_type": "code",
   "execution_count": 29,
   "metadata": {},
   "outputs": [
    {
     "ename": "ValueError",
     "evalue": "k should be >=0, <= n_features = 3; got 8. Use k='all' to return all features.",
     "output_type": "error",
     "traceback": [
      "\u001b[0;31m---------------------------------------------------------------------------\u001b[0m",
      "\u001b[0;31mValueError\u001b[0m                                Traceback (most recent call last)",
      "\u001b[0;32m<ipython-input-29-2772953282ff>\u001b[0m in \u001b[0;36m<module>\u001b[0;34m\u001b[0m\n\u001b[1;32m      1\u001b[0m \u001b[0mbestfeatures\u001b[0m \u001b[0;34m=\u001b[0m \u001b[0mSelectKBest\u001b[0m\u001b[0;34m(\u001b[0m\u001b[0mscore_func\u001b[0m\u001b[0;34m=\u001b[0m\u001b[0mf_classif\u001b[0m\u001b[0;34m,\u001b[0m \u001b[0mk\u001b[0m\u001b[0;34m=\u001b[0m\u001b[0;36m8\u001b[0m\u001b[0;34m)\u001b[0m\u001b[0;34m\u001b[0m\u001b[0;34m\u001b[0m\u001b[0m\n\u001b[0;32m----> 2\u001b[0;31m \u001b[0mfit\u001b[0m \u001b[0;34m=\u001b[0m \u001b[0mbestfeatures\u001b[0m\u001b[0;34m.\u001b[0m\u001b[0mfit\u001b[0m\u001b[0;34m(\u001b[0m\u001b[0mX\u001b[0m\u001b[0;34m,\u001b[0m\u001b[0my\u001b[0m\u001b[0;34m)\u001b[0m\u001b[0;34m\u001b[0m\u001b[0;34m\u001b[0m\u001b[0m\n\u001b[0m\u001b[1;32m      3\u001b[0m \u001b[0mdfscores\u001b[0m \u001b[0;34m=\u001b[0m \u001b[0mpd\u001b[0m\u001b[0;34m.\u001b[0m\u001b[0mDataFrame\u001b[0m\u001b[0;34m(\u001b[0m\u001b[0mfit\u001b[0m\u001b[0;34m.\u001b[0m\u001b[0mscores_\u001b[0m\u001b[0;34m)\u001b[0m\u001b[0;34m\u001b[0m\u001b[0;34m\u001b[0m\u001b[0m\n\u001b[1;32m      4\u001b[0m \u001b[0mdfcolumns\u001b[0m \u001b[0;34m=\u001b[0m \u001b[0mpd\u001b[0m\u001b[0;34m.\u001b[0m\u001b[0mDataFrame\u001b[0m\u001b[0;34m(\u001b[0m\u001b[0mX\u001b[0m\u001b[0;34m.\u001b[0m\u001b[0mcolumns\u001b[0m\u001b[0;34m)\u001b[0m\u001b[0;34m\u001b[0m\u001b[0;34m\u001b[0m\u001b[0m\n\u001b[1;32m      5\u001b[0m \u001b[0;34m\u001b[0m\u001b[0m\n",
      "\u001b[0;32m~/opt/anaconda3/envs/pfg/lib/python3.7/site-packages/sklearn/feature_selection/univariate_selection.py\u001b[0m in \u001b[0;36mfit\u001b[0;34m(self, X, y)\u001b[0m\n\u001b[1;32m    346\u001b[0m                             % (self.score_func, type(self.score_func)))\n\u001b[1;32m    347\u001b[0m \u001b[0;34m\u001b[0m\u001b[0m\n\u001b[0;32m--> 348\u001b[0;31m         \u001b[0mself\u001b[0m\u001b[0;34m.\u001b[0m\u001b[0m_check_params\u001b[0m\u001b[0;34m(\u001b[0m\u001b[0mX\u001b[0m\u001b[0;34m,\u001b[0m \u001b[0my\u001b[0m\u001b[0;34m)\u001b[0m\u001b[0;34m\u001b[0m\u001b[0;34m\u001b[0m\u001b[0m\n\u001b[0m\u001b[1;32m    349\u001b[0m         \u001b[0mscore_func_ret\u001b[0m \u001b[0;34m=\u001b[0m \u001b[0mself\u001b[0m\u001b[0;34m.\u001b[0m\u001b[0mscore_func\u001b[0m\u001b[0;34m(\u001b[0m\u001b[0mX\u001b[0m\u001b[0;34m,\u001b[0m \u001b[0my\u001b[0m\u001b[0;34m)\u001b[0m\u001b[0;34m\u001b[0m\u001b[0;34m\u001b[0m\u001b[0m\n\u001b[1;32m    350\u001b[0m         \u001b[0;32mif\u001b[0m \u001b[0misinstance\u001b[0m\u001b[0;34m(\u001b[0m\u001b[0mscore_func_ret\u001b[0m\u001b[0;34m,\u001b[0m \u001b[0;34m(\u001b[0m\u001b[0mlist\u001b[0m\u001b[0;34m,\u001b[0m \u001b[0mtuple\u001b[0m\u001b[0;34m)\u001b[0m\u001b[0;34m)\u001b[0m\u001b[0;34m:\u001b[0m\u001b[0;34m\u001b[0m\u001b[0;34m\u001b[0m\u001b[0m\n",
      "\u001b[0;32m~/opt/anaconda3/envs/pfg/lib/python3.7/site-packages/sklearn/feature_selection/univariate_selection.py\u001b[0m in \u001b[0;36m_check_params\u001b[0;34m(self, X, y)\u001b[0m\n\u001b[1;32m    512\u001b[0m             raise ValueError(\"k should be >=0, <= n_features = %d; got %r. \"\n\u001b[1;32m    513\u001b[0m                              \u001b[0;34m\"Use k='all' to return all features.\"\u001b[0m\u001b[0;34m\u001b[0m\u001b[0;34m\u001b[0m\u001b[0m\n\u001b[0;32m--> 514\u001b[0;31m                              % (X.shape[1], self.k))\n\u001b[0m\u001b[1;32m    515\u001b[0m \u001b[0;34m\u001b[0m\u001b[0m\n\u001b[1;32m    516\u001b[0m     \u001b[0;32mdef\u001b[0m \u001b[0m_get_support_mask\u001b[0m\u001b[0;34m(\u001b[0m\u001b[0mself\u001b[0m\u001b[0;34m)\u001b[0m\u001b[0;34m:\u001b[0m\u001b[0;34m\u001b[0m\u001b[0;34m\u001b[0m\u001b[0m\n",
      "\u001b[0;31mValueError\u001b[0m: k should be >=0, <= n_features = 3; got 8. Use k='all' to return all features."
     ]
    }
   ],
   "source": [
    "bestfeatures = SelectKBest(score_func=f_classif, k=8)\n",
    "fit = bestfeatures.fit(X,y)\n",
    "dfscores = pd.DataFrame(fit.scores_)\n",
    "dfcolumns = pd.DataFrame(X.columns)\n",
    "\n",
    "featureScores = pd.concat([dfcolumns,dfscores],axis=1)\n",
    "featureScores.columns = ['Specs','Score']\n",
    "print(featureScores.nlargest(8,'Score'))"
   ]
  },
  {
   "cell_type": "code",
   "execution_count": null,
   "metadata": {},
   "outputs": [],
   "source": [
    "corrmat = data_analysis.iloc[:,:8].corr()\n",
    "top_corr_features = corrmat.index\n",
    "plt.figure(figsize=(20,20))\n",
    "plt.axis('scaled')\n",
    "g=sns.heatmap(data_analysis[top_corr_features].corr(),annot=True,cmap=\"RdYlGn\")"
   ]
  },
  {
   "cell_type": "code",
   "execution_count": null,
   "metadata": {},
   "outputs": [],
   "source": [
    "import numpy as np\n",
    "import matplotlib.pyplot as plt\n",
    "\n",
    "models = [\"mlp\",\"lstm\"]\n",
    "classes = {2: [\"S\",\"B\"],\n",
    "           8: [\"B3\",\"B2\",\"B1\",\"B0\",\"S0\",\"S1\",\"S2\",\"S3\"]}\n",
    "n_classes = [2, 8]\n",
    "n_steps = [2,5,10]\n",
    "n_indicators = {\n",
    "    3: ['SMA','MOM','RSI'], \n",
    "    6: ['SMA','MOM','RSI', 'MACD','ADX','WILLR']\n",
    "}\n",
    "\n",
    "batch_size = 32\n",
    "train_split = .8\n",
    "\n",
    "# X [d: (all, train, test)] [m: type(mlp/lstm)] [c: classes(2, 8)] [s: n_steps(2,5,10)] [i: indicators(3, 6, 8)] "
   ]
  },
  {
   "cell_type": "code",
   "execution_count": null,
   "metadata": {
    "scrolled": true
   },
   "outputs": [],
   "source": [
    "X = {}\n",
    "y = {}\n",
    "for a in [\"all\", \"train\", \"test\"]:\n",
    "    X[a] = {}\n",
    "    y[a] = {}\n",
    "    for m in models:\n",
    "        X[a][m] = {}\n",
    "        y[a][m] = {}\n",
    "        for c in n_classes:\n",
    "            X[a][m][c] = {}\n",
    "            y[a][m][c] = {}\n",
    "            for s in n_steps:\n",
    "                X[a][m][c][s] = {}\n",
    "                y[a][m][c][s] = {}\n",
    "                for i in n_indicators.keys():\n",
    "                    X[a][m][c][s][i] = []\n",
    "                    y[a][m][c][s][i] = []\n",
    "                    if a == \"all\":\n",
    "                        for d in range(len(data[c])):\n",
    "                            end_ix = d + s\n",
    "                            if end_ix > len(data[c]):\n",
    "                                break\n",
    "                            seq_x, seq_y = data[c].loc[data[c].index.isin(data[c].index[d:end_ix]), n_indicators[i]].values, data[c].iloc[end_ix-1, -1]\n",
    "                            if m == \"lstm\":\n",
    "                                X[a][m][c][s][i].append(seq_x)\n",
    "                            else:\n",
    "                                X[a][m][c][s][i].append(seq_x.flatten())\n",
    "                            if c == 2:\n",
    "                                y[a][m][c][s][i].append(seq_y)\n",
    "                            else:\n",
    "                                y[a][m][c][s][i].append(np.eye(c)[seq_y])\n",
    "                        X[a][m][c][s][i] = np.array(X[a][m][c][s][i])\n",
    "                        y[a][m][c][s][i] = np.array(y[a][m][c][s][i])"
   ]
  },
  {
   "cell_type": "code",
   "execution_count": null,
   "metadata": {
    "scrolled": true
   },
   "outputs": [],
   "source": [
    "a = 'all'\n",
    "for m in models:\n",
    "    for c in n_classes:\n",
    "        for s in n_steps:\n",
    "            for i in n_indicators:\n",
    "                print(X[a][m][c][s][i].shape, y[a][m][c][s][i].shape)"
   ]
  },
  {
   "cell_type": "code",
   "execution_count": null,
   "metadata": {},
   "outputs": [],
   "source": [
    "data[2].head()"
   ]
  },
  {
   "cell_type": "code",
   "execution_count": null,
   "metadata": {},
   "outputs": [],
   "source": [
    "X[\"all\"][\"lstm\"][2][5][8][0]"
   ]
  },
  {
   "cell_type": "code",
   "execution_count": null,
   "metadata": {},
   "outputs": [],
   "source": [
    "X[\"all\"][\"mlp\"][2][2][8][0]"
   ]
  },
  {
   "cell_type": "code",
   "execution_count": null,
   "metadata": {},
   "outputs": [],
   "source": [
    "from sklearn.model_selection import train_test_split\n",
    "\n",
    "for m in models:\n",
    "    for c in n_classes:\n",
    "        for s in n_steps:\n",
    "            for i in n_indicators:\n",
    "                if m == \"mlp\":\n",
    "                    X['train'][m][c][s][i], X['test'][m][c][s][i], y['train'][m][c][s][i], y['test'][m][c][s][i] = train_test_split(X['all'][m][c][s][i], y['all'][m][c][s][i], train_size=train_split, random_state=0)\n",
    "                else:\n",
    "                    X['train'][m][c][s][i] = X['all'][m][c][s][i][:int(len(X['all'][m][c][s][i])*train_split)]\n",
    "                    X['test'][m][c][s][i] = X['all'][m][c][s][i][int(len(X['all'][m][c][s][i])*train_split):]\n",
    "                    y['train'][m][c][s][i] = y['all'][m][c][s][i][:int(len(y['all'][m][c][s][i])*train_split)]\n",
    "                    y['test'][m][c][s][i] = y['all'][m][c][s][i][int(len(y['all'][m][c][s][i])*train_split):]"
   ]
  },
  {
   "cell_type": "code",
   "execution_count": null,
   "metadata": {
    "scrolled": true
   },
   "outputs": [],
   "source": [
    "for a in ['train','test']:\n",
    "    for m in models:\n",
    "        for c in n_classes:\n",
    "            for s in n_steps:\n",
    "                for i in n_indicators:\n",
    "                    print(X[a][m][c][s][i].shape, y[a][m][c][s][i].shape)"
   ]
  },
  {
   "cell_type": "code",
   "execution_count": null,
   "metadata": {},
   "outputs": [],
   "source": [
    "Models = {}\n",
    "for m in models:\n",
    "    Models[m] = {}\n",
    "    for c in n_classes:\n",
    "        Models[m][c] = {}\n",
    "        for s in n_steps:\n",
    "            Models[m][c][s] = {}\n",
    "            for i in n_indicators:\n",
    "                Models[m][c][s][i] = {}\n",
    "                if c == 2:\n",
    "                    out = 1\n",
    "                else:\n",
    "                    out = c\n",
    "                if m == \"mlp\":\n",
    "                    Models[m][c][s][i] = getModelMLP(s, i, out)\n",
    "                else:\n",
    "                    Models[m][c][s][i] = getModelBidirectionalLSTM(s, i, out)"
   ]
  },
  {
   "cell_type": "code",
   "execution_count": null,
   "metadata": {
    "scrolled": true
   },
   "outputs": [],
   "source": [
    "for m in models:\n",
    "    for c in n_classes:\n",
    "        for s in n_steps:\n",
    "            for i in n_indicators:\n",
    "                print(Models[m][c][s][i])"
   ]
  },
  {
   "cell_type": "code",
   "execution_count": null,
   "metadata": {},
   "outputs": [],
   "source": [
    "history = {}\n",
    "preds = {}\n",
    "conf = {}\n",
    "for m in models:\n",
    "    history[m] = {}\n",
    "    preds[m] = {}\n",
    "    conf[m] = {}\n",
    "    for c in n_classes:\n",
    "        history[m][c] = {}\n",
    "        preds[m][c] = {}\n",
    "        conf[m][c] = {}\n",
    "        for s in n_steps:\n",
    "            history[m][c][s] = {}\n",
    "            preds[m][c][s] = {}\n",
    "            conf[m][c][s] = {}\n",
    "            for i in n_indicators:\n",
    "                history[m][c][s][i] = {}\n",
    "                preds[m][c][s][i] = {}\n",
    "                conf[m][c][s][i] = {}"
   ]
  },
  {
   "cell_type": "code",
   "execution_count": null,
   "metadata": {},
   "outputs": [],
   "source": [
    "# Calculando lucro/prejuízo total, supondo que inicialmente temos US$1000 em carteira\n",
    "import copy\n",
    "\n",
    "def calculateProfit(preds, stockPrices):\n",
    "    classificationArray = list(np.argmax(preds[\"lstm\"][8], axis=1))\n",
    "\n",
    "    prices = copy.deepcopy(stockPrices)\n",
    "\n",
    "    for date in sorted(stockPrices.keys()):\n",
    "        if len(prices) == len(classificationArray):\n",
    "            break\n",
    "        del prices[date]\n",
    "\n",
    "    initialMoney = 1000.00\n",
    "    index = 0\n",
    "    currentMoney = initialMoney\n",
    "    currentStocks = 0.0\n",
    "\n",
    "    for date in sorted(prices.keys()):\n",
    "        stockPrice = float(prices[date])\n",
    "        classification = classificationArray[index]\n",
    "        # Caso de compra\n",
    "        if currentMoney != 0 and (classification == 0 or classification == 1 or classification == 2 or classification == 3):\n",
    "            currentStocks = currentMoney/stockPrice\n",
    "            currentMoney = 0.0\n",
    "        elif currentStocks != 0 and (classification == 4 or classification == 5 or classification == 6 or classification == 7):\n",
    "            currentMoney = currentStocks*stockPrice\n",
    "            currentStocks = 0.0\n",
    "        index += 1\n",
    "\n",
    "    firstPrice = float(prices[sorted(prices.keys())[0]])\n",
    "    lastPrice = float(prices[sorted(prices.keys())[-1]])\n",
    "\n",
    "    if currentMoney == 0:\n",
    "        finalMoney = currentStocks*lastPrice\n",
    "\n",
    "    growthPercentage = 100.0*((finalMoney-initialMoney)/initialMoney)\n",
    "    timeLenInYears = len(prices)/252.0\n",
    "\n",
    "    print(\"[DEBUG] Current money:\\t   US$ \" + str(round(currentMoney, 2)))\n",
    "    print(\"[DEBUG] Current stocks:\\t   \" + str(round(currentStocks, 2)) + \"\\t| Last stock-price: US$ \" + str(round(lastPrice, 2)))\n",
    "    print(\"First date:\\t   \" + sorted(prices.keys())[1] + \"\\t| Initial stock value: US$ \" + firstPrice)\n",
    "    print(\"Last date:\\t   \" + sorted(prices.keys())[-1] + \"\\t| Final stock value: US$ \" + lastPrice)\n",
    "    print(\"Initial money:    US$ \" + str(round(initialMoney, 2)) + \" | Final money: US$ \" + str(round(finalMoney, 2)))\n",
    "    print(\"Final profit:\\t   US$ \" + str(round(finalMoney-initialMoney, 2)) + \" over \" + str(round(timeLenInYears, 2)) + \" years\")\n",
    "    print(\"Growth percentage: \" + str(round(growthPercentage, 2)) + \"%\")\n",
    "    print(\"Growth per year:   US$ \" + str(round((finalMoney-initialMoney)/timeLenInYears, 2)))"
   ]
  },
  {
   "cell_type": "code",
   "execution_count": null,
   "metadata": {},
   "outputs": [],
   "source": [
    "def fit(m, c, s, i):\n",
    "    history[m][c][s][i] = Models[m][c][s][i].fit(\n",
    "        X['train'][m][c][s][i], \n",
    "        y['train'][m][c][s][i], \n",
    "        epochs=300, \n",
    "        verbose=1,\n",
    "        batch_size=batch_size)\n",
    "    plt.plot(history[m][c][s][i].history['loss'], label='train')\n",
    "#     plt.plot(history[m][c][s][i].history['val_loss'], label='test')\n",
    "    plt.legend()\n",
    "    plt.show()\n",
    "    \n",
    "def predict(m, c, s, i):\n",
    "    preds[m][c][s][i] = Models[m][c][s][i].predict(\n",
    "        X['test'][m][c][s][i], \n",
    "        batch_size=batch_size)\n",
    "    print(f\"Model {m}\\nNumber of classes {c}\\nNumber of steps {s}\\nNumber of indicators {i}\")\n",
    "    print(classification_report(y['test'][m][c][s][i], \n",
    "                                np.rint(preds[m][c][s][i]).astype(np.int64), \n",
    "                                target_names=classes[c], \n",
    "                                digits=5))\n",
    "    if c == 2:\n",
    "        conf[m][c][s][i] = plot_confusion_matrix(y['test'][m][c][s][i], \n",
    "                                                 np.rint(preds[m][c][s][i]).astype(np.int64), \n",
    "                                                 classes=np.array(classes[c]))\n",
    "    else:\n",
    "        conf[m][c][s][i] = plot_confusion_matrix(y['test'][m][c][s][i].argmax(axis=1), \n",
    "                                                 np.rint(preds[m][c][s][i]).argmax(axis=1), \n",
    "                                                 classes=np.array(classes[c]))\n",
    "        \n",
    "def get_next_value(m, c, s, i):\n",
    "    i = n_indicators[(n_indicators.index(i) + 1)%len(n_indicators)]\n",
    "    if (n_indicators.index(i) == 0):\n",
    "        s = n_steps[(n_steps.index(s) + 1)%len(n_steps)]\n",
    "        if (n_steps.index(s) == 0):\n",
    "            c = n_classes[(n_classes.index(c) + 1)%len(n_classes)]\n",
    "            if (n_classes.index(c) == 0):\n",
    "                m = models[(models.index(m) + 1)%len(models)]    \n",
    "    return m, c, s, i"
   ]
  },
  {
   "cell_type": "code",
   "execution_count": null,
   "metadata": {},
   "outputs": [],
   "source": [
    "m = models[0]\n",
    "c = n_classes[0]\n",
    "s = n_steps[0]\n",
    "i = n_indicators[0]\n",
    "\n",
    "for x in range(36):\n",
    "    Models[m][c][s][i].summary()\n",
    "    m, c, s, i = get_next_value(m, c, s, i)"
   ]
  },
  {
   "cell_type": "code",
   "execution_count": null,
   "metadata": {
    "scrolled": true
   },
   "outputs": [],
   "source": [
    "m = models[0]\n",
    "c = n_classes[0]\n",
    "s = n_steps[0]\n",
    "i = n_indicators[0]\n",
    "\n",
    "fit(m, c, s, i)"
   ]
  },
  {
   "cell_type": "code",
   "execution_count": null,
   "metadata": {
    "scrolled": true
   },
   "outputs": [],
   "source": [
    "predict(m, c, s, i)\n",
    "m, c, s, i = get_next_value(m, c, s, i)"
   ]
  },
  {
   "cell_type": "code",
   "execution_count": null,
   "metadata": {
    "scrolled": true
   },
   "outputs": [],
   "source": [
    "fit(m, c, s, i)"
   ]
  },
  {
   "cell_type": "code",
   "execution_count": null,
   "metadata": {
    "scrolled": true
   },
   "outputs": [],
   "source": [
    "predict(m, c, s, i)\n",
    "m, c, s, i = get_next_value(m, c, s, i)"
   ]
  },
  {
   "cell_type": "code",
   "execution_count": null,
   "metadata": {
    "scrolled": true
   },
   "outputs": [],
   "source": [
    "fit(m, c, s, i)"
   ]
  },
  {
   "cell_type": "code",
   "execution_count": null,
   "metadata": {
    "scrolled": true
   },
   "outputs": [],
   "source": [
    "predict(m, c, s, i)\n",
    "m, c, s, i = get_next_value(m, c, s, i)"
   ]
  },
  {
   "cell_type": "code",
   "execution_count": null,
   "metadata": {
    "scrolled": true
   },
   "outputs": [],
   "source": [
    "fit(m, c, s, i)"
   ]
  },
  {
   "cell_type": "code",
   "execution_count": null,
   "metadata": {
    "scrolled": true
   },
   "outputs": [],
   "source": [
    "predict(m, c, s, i)\n",
    "m, c, s, i = get_next_value(m, c, s, i)"
   ]
  },
  {
   "cell_type": "code",
   "execution_count": null,
   "metadata": {
    "scrolled": true
   },
   "outputs": [],
   "source": [
    "fit(m, c, s, i)"
   ]
  },
  {
   "cell_type": "code",
   "execution_count": null,
   "metadata": {
    "scrolled": true
   },
   "outputs": [],
   "source": [
    "predict(m, c, s, i)\n",
    "m, c, s, i = get_next_value(m, c, s, i)"
   ]
  },
  {
   "cell_type": "code",
   "execution_count": null,
   "metadata": {
    "scrolled": true
   },
   "outputs": [],
   "source": [
    "fit(m, c, s, i)"
   ]
  },
  {
   "cell_type": "code",
   "execution_count": null,
   "metadata": {
    "scrolled": true
   },
   "outputs": [],
   "source": [
    "predict(m, c, s, i)\n",
    "m, c, s, i = get_next_value(m, c, s, i)"
   ]
  },
  {
   "cell_type": "code",
   "execution_count": null,
   "metadata": {
    "scrolled": true
   },
   "outputs": [],
   "source": [
    "fit(m, c, s, i)"
   ]
  },
  {
   "cell_type": "code",
   "execution_count": null,
   "metadata": {
    "scrolled": true
   },
   "outputs": [],
   "source": [
    "predict(m, c, s, i)\n",
    "m, c, s, i = get_next_value(m, c, s, i)"
   ]
  },
  {
   "cell_type": "code",
   "execution_count": null,
   "metadata": {
    "scrolled": true
   },
   "outputs": [],
   "source": [
    "fit(m, c, s, i)"
   ]
  },
  {
   "cell_type": "code",
   "execution_count": null,
   "metadata": {
    "scrolled": true
   },
   "outputs": [],
   "source": [
    "predict(m, c, s, i)\n",
    "m, c, s, i = get_next_value(m, c, s, i)"
   ]
  },
  {
   "cell_type": "code",
   "execution_count": null,
   "metadata": {
    "scrolled": true
   },
   "outputs": [],
   "source": [
    "fit(m, c, s, i)"
   ]
  },
  {
   "cell_type": "code",
   "execution_count": null,
   "metadata": {
    "scrolled": true
   },
   "outputs": [],
   "source": [
    "predict(m, c, s, i)\n",
    "m, c, s, i = get_next_value(m, c, s, i)"
   ]
  },
  {
   "cell_type": "code",
   "execution_count": null,
   "metadata": {
    "scrolled": true
   },
   "outputs": [],
   "source": [
    "fit(m, c, s, i)"
   ]
  },
  {
   "cell_type": "code",
   "execution_count": null,
   "metadata": {
    "scrolled": true
   },
   "outputs": [],
   "source": [
    "predict(m, c, s, i)\n",
    "m, c, s, i = get_next_value(m, c, s, i)"
   ]
  },
  {
   "cell_type": "code",
   "execution_count": null,
   "metadata": {
    "scrolled": true
   },
   "outputs": [],
   "source": [
    "fit(m, c, s, i)"
   ]
  },
  {
   "cell_type": "code",
   "execution_count": null,
   "metadata": {
    "scrolled": true
   },
   "outputs": [],
   "source": [
    "predict(m, c, s, i)\n",
    "m, c, s, i = get_next_value(m, c, s, i)"
   ]
  },
  {
   "cell_type": "code",
   "execution_count": null,
   "metadata": {
    "scrolled": true
   },
   "outputs": [],
   "source": [
    "fit(m, c, s, i)"
   ]
  },
  {
   "cell_type": "code",
   "execution_count": null,
   "metadata": {
    "scrolled": true
   },
   "outputs": [],
   "source": [
    "predict(m, c, s, i)\n",
    "m, c, s, i = get_next_value(m, c, s, i)"
   ]
  },
  {
   "cell_type": "code",
   "execution_count": null,
   "metadata": {
    "scrolled": true
   },
   "outputs": [],
   "source": [
    "fit(m, c, s, i)"
   ]
  },
  {
   "cell_type": "code",
   "execution_count": null,
   "metadata": {
    "scrolled": true
   },
   "outputs": [],
   "source": [
    "predict(m, c, s, i)\n",
    "m, c, s, i = get_next_value(m, c, s, i)"
   ]
  },
  {
   "cell_type": "code",
   "execution_count": null,
   "metadata": {
    "scrolled": true
   },
   "outputs": [],
   "source": [
    "fit(m, c, s, i)"
   ]
  },
  {
   "cell_type": "code",
   "execution_count": null,
   "metadata": {
    "scrolled": true
   },
   "outputs": [],
   "source": [
    "predict(m, c, s, i)\n",
    "m, c, s, i = get_next_value(m, c, s, i)"
   ]
  },
  {
   "cell_type": "code",
   "execution_count": null,
   "metadata": {
    "scrolled": true
   },
   "outputs": [],
   "source": [
    "fit(m, c, s, i)"
   ]
  },
  {
   "cell_type": "code",
   "execution_count": null,
   "metadata": {
    "scrolled": true
   },
   "outputs": [],
   "source": [
    "predict(m, c, s, i)\n",
    "m, c, s, i = get_next_value(m, c, s, i)"
   ]
  },
  {
   "cell_type": "code",
   "execution_count": null,
   "metadata": {
    "scrolled": true
   },
   "outputs": [],
   "source": [
    "fit(m, c, s, i)"
   ]
  },
  {
   "cell_type": "code",
   "execution_count": null,
   "metadata": {
    "scrolled": true
   },
   "outputs": [],
   "source": [
    "predict(m, c, s, i)\n",
    "m, c, s, i = get_next_value(m, c, s, i)"
   ]
  },
  {
   "cell_type": "code",
   "execution_count": null,
   "metadata": {
    "scrolled": true
   },
   "outputs": [],
   "source": [
    "fit(m, c, s, i)"
   ]
  },
  {
   "cell_type": "code",
   "execution_count": null,
   "metadata": {
    "scrolled": true
   },
   "outputs": [],
   "source": [
    "predict(m, c, s, i)\n",
    "m, c, s, i = get_next_value(m, c, s, i)"
   ]
  },
  {
   "cell_type": "code",
   "execution_count": null,
   "metadata": {
    "scrolled": true
   },
   "outputs": [],
   "source": [
    "fit(m, c, s, i)"
   ]
  },
  {
   "cell_type": "code",
   "execution_count": null,
   "metadata": {
    "scrolled": true
   },
   "outputs": [],
   "source": [
    "predict(m, c, s, i)\n",
    "m, c, s, i = get_next_value(m, c, s, i)"
   ]
  },
  {
   "cell_type": "code",
   "execution_count": null,
   "metadata": {
    "scrolled": true
   },
   "outputs": [],
   "source": [
    "fit(m, c, s, i)"
   ]
  },
  {
   "cell_type": "code",
   "execution_count": null,
   "metadata": {
    "scrolled": true
   },
   "outputs": [],
   "source": [
    "predict(m, c, s, i)\n",
    "m, c, s, i = get_next_value(m, c, s, i)"
   ]
  },
  {
   "cell_type": "code",
   "execution_count": null,
   "metadata": {
    "scrolled": true
   },
   "outputs": [],
   "source": [
    "fit(m, c, s, i)"
   ]
  },
  {
   "cell_type": "code",
   "execution_count": null,
   "metadata": {
    "scrolled": true
   },
   "outputs": [],
   "source": [
    "predict(m, c, s, i)\n",
    "m, c, s, i = get_next_value(m, c, s, i)"
   ]
  },
  {
   "cell_type": "code",
   "execution_count": null,
   "metadata": {
    "scrolled": true
   },
   "outputs": [],
   "source": [
    "fit(m, c, s, i)"
   ]
  },
  {
   "cell_type": "code",
   "execution_count": null,
   "metadata": {
    "scrolled": true
   },
   "outputs": [],
   "source": [
    "predict(m, c, s, i)\n",
    "m, c, s, i = get_next_value(m, c, s, i)"
   ]
  },
  {
   "cell_type": "code",
   "execution_count": null,
   "metadata": {
    "scrolled": true
   },
   "outputs": [],
   "source": [
    "fit(m, c, s, i)"
   ]
  },
  {
   "cell_type": "code",
   "execution_count": null,
   "metadata": {
    "scrolled": true
   },
   "outputs": [],
   "source": [
    "predict(m, c, s, i)\n",
    "m, c, s, i = get_next_value(m, c, s, i)"
   ]
  },
  {
   "cell_type": "code",
   "execution_count": null,
   "metadata": {
    "scrolled": true
   },
   "outputs": [],
   "source": [
    "fit(m, c, s, i)"
   ]
  },
  {
   "cell_type": "code",
   "execution_count": null,
   "metadata": {
    "scrolled": true
   },
   "outputs": [],
   "source": [
    "predict(m, c, s, i)\n",
    "m, c, s, i = get_next_value(m, c, s, i)"
   ]
  },
  {
   "cell_type": "code",
   "execution_count": null,
   "metadata": {
    "scrolled": true
   },
   "outputs": [],
   "source": [
    "fit(m, c, s, i)"
   ]
  },
  {
   "cell_type": "code",
   "execution_count": null,
   "metadata": {
    "scrolled": true
   },
   "outputs": [],
   "source": [
    "predict(m, c, s, i)\n",
    "m, c, s, i = get_next_value(m, c, s, i)"
   ]
  },
  {
   "cell_type": "code",
   "execution_count": null,
   "metadata": {
    "scrolled": true
   },
   "outputs": [],
   "source": [
    "fit(m, c, s, i)"
   ]
  },
  {
   "cell_type": "code",
   "execution_count": null,
   "metadata": {
    "scrolled": true
   },
   "outputs": [],
   "source": [
    "predict(m, c, s, i)\n",
    "m, c, s, i = get_next_value(m, c, s, i)"
   ]
  },
  {
   "cell_type": "code",
   "execution_count": null,
   "metadata": {
    "scrolled": true
   },
   "outputs": [],
   "source": [
    "fit(m, c, s, i)"
   ]
  },
  {
   "cell_type": "code",
   "execution_count": null,
   "metadata": {
    "scrolled": true
   },
   "outputs": [],
   "source": [
    "predict(m, c, s, i)\n",
    "m, c, s, i = get_next_value(m, c, s, i)"
   ]
  },
  {
   "cell_type": "code",
   "execution_count": null,
   "metadata": {
    "scrolled": true
   },
   "outputs": [],
   "source": [
    "fit(m, c, s, i)"
   ]
  },
  {
   "cell_type": "code",
   "execution_count": null,
   "metadata": {
    "scrolled": true
   },
   "outputs": [],
   "source": [
    "predict(m, c, s, i)\n",
    "m, c, s, i = get_next_value(m, c, s, i)"
   ]
  },
  {
   "cell_type": "code",
   "execution_count": null,
   "metadata": {
    "scrolled": true
   },
   "outputs": [],
   "source": [
    "fit(m, c, s, i)"
   ]
  },
  {
   "cell_type": "code",
   "execution_count": null,
   "metadata": {
    "scrolled": true
   },
   "outputs": [],
   "source": [
    "predict(m, c, s, i)\n",
    "m, c, s, i = get_next_value(m, c, s, i)"
   ]
  },
  {
   "cell_type": "code",
   "execution_count": null,
   "metadata": {
    "scrolled": true
   },
   "outputs": [],
   "source": [
    "fit(m, c, s, i)"
   ]
  },
  {
   "cell_type": "code",
   "execution_count": null,
   "metadata": {
    "scrolled": true
   },
   "outputs": [],
   "source": [
    "predict(m, c, s, i)\n",
    "m, c, s, i = get_next_value(m, c, s, i)"
   ]
  },
  {
   "cell_type": "code",
   "execution_count": null,
   "metadata": {
    "scrolled": true
   },
   "outputs": [],
   "source": [
    "fit(m, c, s, i)"
   ]
  },
  {
   "cell_type": "code",
   "execution_count": null,
   "metadata": {
    "scrolled": true
   },
   "outputs": [],
   "source": [
    "predict(m, c, s, i)\n",
    "m, c, s, i = get_next_value(m, c, s, i)"
   ]
  },
  {
   "cell_type": "code",
   "execution_count": null,
   "metadata": {
    "scrolled": true
   },
   "outputs": [],
   "source": [
    "fit(m, c, s, i)"
   ]
  },
  {
   "cell_type": "code",
   "execution_count": null,
   "metadata": {
    "scrolled": true
   },
   "outputs": [],
   "source": [
    "predict(m, c, s, i)\n",
    "m, c, s, i = get_next_value(m, c, s, i)"
   ]
  },
  {
   "cell_type": "code",
   "execution_count": null,
   "metadata": {
    "scrolled": true
   },
   "outputs": [],
   "source": [
    "fit(m, c, s, i)"
   ]
  },
  {
   "cell_type": "code",
   "execution_count": null,
   "metadata": {
    "scrolled": true
   },
   "outputs": [],
   "source": [
    "predict(m, c, s, i)\n",
    "m, c, s, i = get_next_value(m, c, s, i)"
   ]
  },
  {
   "cell_type": "code",
   "execution_count": null,
   "metadata": {
    "scrolled": true
   },
   "outputs": [],
   "source": [
    "fit(m, c, s, i)"
   ]
  },
  {
   "cell_type": "code",
   "execution_count": null,
   "metadata": {
    "scrolled": true
   },
   "outputs": [],
   "source": [
    "predict(m, c, s, i)\n",
    "m, c, s, i = get_next_value(m, c, s, i)"
   ]
  },
  {
   "cell_type": "code",
   "execution_count": null,
   "metadata": {
    "scrolled": true
   },
   "outputs": [],
   "source": [
    "fit(m, c, s, i)"
   ]
  },
  {
   "cell_type": "code",
   "execution_count": null,
   "metadata": {
    "scrolled": true
   },
   "outputs": [],
   "source": [
    "predict(m, c, s, i)\n",
    "m, c, s, i = get_next_value(m, c, s, i)"
   ]
  },
  {
   "cell_type": "code",
   "execution_count": null,
   "metadata": {
    "scrolled": true
   },
   "outputs": [],
   "source": [
    "fit(m, c, s, i)"
   ]
  },
  {
   "cell_type": "code",
   "execution_count": null,
   "metadata": {
    "scrolled": true
   },
   "outputs": [],
   "source": [
    "predict(m, c, s, i)\n",
    "m, c, s, i = get_next_value(m, c, s, i)"
   ]
  },
  {
   "cell_type": "code",
   "execution_count": null,
   "metadata": {
    "scrolled": true
   },
   "outputs": [],
   "source": [
    "fit(m, c, s, i)"
   ]
  },
  {
   "cell_type": "code",
   "execution_count": null,
   "metadata": {
    "scrolled": true
   },
   "outputs": [],
   "source": [
    "predict(m, c, s, i)"
   ]
  },
  {
   "cell_type": "code",
   "execution_count": null,
   "metadata": {},
   "outputs": [],
   "source": []
  }
 ],
 "metadata": {
  "kernelspec": {
   "display_name": "Python 3",
   "language": "python",
   "name": "python3"
  },
  "language_info": {
   "codemirror_mode": {
    "name": "ipython",
    "version": 3
   },
   "file_extension": ".py",
   "mimetype": "text/x-python",
   "name": "python",
   "nbconvert_exporter": "python",
   "pygments_lexer": "ipython3",
   "version": "3.7.5"
  }
 },
 "nbformat": 4,
 "nbformat_minor": 2
}
