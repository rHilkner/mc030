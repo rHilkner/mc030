{
 "cells": [
  {
   "cell_type": "markdown",
   "metadata": {},
   "source": [
    "# MC030 - Projeto final de Graduação\n",
    "## Análise e Previsão do Mercado de Ações"
   ]
  },
  {
   "cell_type": "markdown",
   "metadata": {},
   "source": [
    "## Descrição do modelo\n",
    "\n",
    "A partir de um conjunto de cotações diárias de dólar para real (USD-BRL) desejamos modelar esse comportamento a partir de uma série de indicadores de mercado financeiro para classificarmos cada dia como um momento de compra ou momento de venda."
   ]
  },
  {
   "cell_type": "markdown",
   "metadata": {},
   "source": [
    "# ..."
   ]
  },
  {
   "cell_type": "markdown",
   "metadata": {},
   "source": [
    "# Código"
   ]
  },
  {
   "cell_type": "markdown",
   "metadata": {},
   "source": [
    "### Definindo endpoints da API (https://www.alphavantage.co/documentation/)"
   ]
  },
  {
   "cell_type": "code",
   "execution_count": 1,
   "metadata": {},
   "outputs": [],
   "source": [
    "apiToken = '3GX5M109KQK9B6HO'\n",
    "baseUrl = 'https://www.alphavantage.co/query?&outputsize=full&apikey=' + apiToken\n",
    "usdBrlUrl = 'https://www.alphavantage.co/query?function=FX_DAILY&from_symbol=USD&to_symbol=BRL&outputsize=full&apikey=' + apiToken\n",
    "stockUrl = 'https://www.alphavantage.co/query?function=TIME_SERIES_DAILY&symbol=MSFT&outputsize=full&apikey=demo'"
   ]
  },
  {
   "cell_type": "markdown",
   "metadata": {},
   "source": [
    "### Obtendo dados da API"
   ]
  },
  {
   "cell_type": "code",
   "execution_count": 2,
   "metadata": {},
   "outputs": [],
   "source": [
    "import requests\n",
    "import json\n",
    "import time\n",
    "\n",
    "callsMade = 0\n",
    "\n",
    "def incrementAndVerifyCallsMade():\n",
    "    global callsMade\n",
    "    if callsMade == 5:\n",
    "        print('Made 5 requests to the API in the last minute - sleeping for 1 minute')\n",
    "        time.sleep(65)\n",
    "        callsMade = 0\n",
    "    callsMade += 1\n",
    "\n",
    "def parsePriceRetrieved(stocksRetrieved):\n",
    "    stockPrices = {}\n",
    "    for date, candle in stocksRetrieved.items():\n",
    "        stockPrices[date] = candle['1. open']\n",
    "    return stockPrices\n",
    "    \n",
    "def parseIndicatorRetrieved(indicatorsRetrieved):\n",
    "    indicatorValues = {}\n",
    "    for date, indicator in indicatorsRetrieved.items():\n",
    "        for indicatorSymbol, indicatorValue in indicator.items():\n",
    "            indicatorValues[date] = {indicatorSymbol: indicatorValue}\n",
    "    return indicatorValues\n",
    "\n",
    "# returns [{date: price}]\n",
    "def getStockPrice(stockSymbol):\n",
    "    stockUrl = baseUrl + '&function=TIME_SERIES_DAILY&symbol=' + stockSymbol\n",
    "    print('Fetching ' + stockUrl)\n",
    "    incrementAndVerifyCallsMade()\n",
    "    stocksRetrieved = requests.get(stockUrl).json();\n",
    "    stocks = parsePriceRetrieved(stocksRetrieved['Time Series (Daily)'])\n",
    "    print('Retrieved and parsed '+ stockUrl)\n",
    "    return stocks\n",
    "\n",
    "# returns [{date: price}]\n",
    "def getForexPrice(fromSymbol, toSymbol):\n",
    "    forexUrl = baseUrl + '&function=FX_DAILY&from_symbol=' + fromSymbol + '&to_symbol=' + toSymbol\n",
    "    print('Fetching ' + forexUrl)\n",
    "    incrementAndVerifyCallsMade()\n",
    "    forexRetrieved = requests.get(forexUrl).json();\n",
    "    forex = parsePriceRetrieved(forexRetrieved)\n",
    "    print('Retrieved and parsed '+ forexUrl)\n",
    "    return forex\n",
    "\n",
    "# returns [date: [{indicatorFunction: indicatorValue}]]\n",
    "def getIndicator(indicatorFunction, symbol):\n",
    "    indicatorUrl = baseUrl + '&interval=daily&series_type=open&function=' + indicatorFunction + '&symbol=' + symbol\n",
    "    if indicatorFunction=='SMA':\n",
    "        indicatorUrl += '&time_period=10'\n",
    "    elif indicatorFunction=='EMA':\n",
    "        indicatorUrl += '&time_period=10'\n",
    "    elif indicatorFunction=='WMA':\n",
    "        indicatorUrl += '&time_period=10'\n",
    "    elif indicatorFunction=='DEMA':\n",
    "        indicatorUrl += '&time_period=10'\n",
    "    elif indicatorFunction=='TEMA':\n",
    "        indicatorUrl += '&time_period=10'\n",
    "    elif indicatorFunction=='TRIMA':\n",
    "        indicatorUrl += '&time_period=10'\n",
    "    elif indicatorFunction=='KAMA':\n",
    "        indicatorUrl += '&time_period=10'\n",
    "    elif indicatorFunction=='MAMA':\n",
    "        indicatorUrl += '&fastlimit=0.01&slowlimit=0.01'\n",
    "    elif indicatorFunction=='T3':\n",
    "        indicatorUrl += '&time_period=10'\n",
    "    elif indicatorFunction=='MACD':\n",
    "        indicatorUrl += '&fastperiod=12&slowperiod=26&signalperiod=9'\n",
    "    elif indicatorFunction=='MACDEXT':\n",
    "        indicatorUrl += '&fastperiod=12&slowperiod=26&signalperiod=9&fastmatype=0&slowmatype=0&signalmatype=0'\n",
    "    elif indicatorFunction=='STOCH':\n",
    "        indicatorUrl += '&fastkperiod=5&slowkperiod=3&slowdperiod=3&slowkmatype=0&slowdmatype=0'\n",
    "    elif indicatorFunction=='STOCHF':\n",
    "        indicatorUrl += '&fastkperiod=5&fastdperiod=3&fastdmatype=0'\n",
    "    elif indicatorFunction=='RSI':\n",
    "        indicatorUrl += '&time_period=10'\n",
    "    elif indicatorFunction=='STOCHRSI':\n",
    "        indicatorUrl += '&time_period=10&fastkperiod=5&fastdperiod=3&fastdmatype=0'\n",
    "    elif indicatorFunction=='WILLR':\n",
    "        indicatorUrl += '&time_period=10'\n",
    "    elif indicatorFunction=='ADX':\n",
    "        indicatorUrl += '&time_period=10'\n",
    "    elif indicatorFunction=='ADXR':\n",
    "        indicatorUrl += '&time_period=10'\n",
    "    elif indicatorFunction=='APO':\n",
    "        indicatorUrl += '&fastperiod=12&slowperiod=26&matype=0'\n",
    "    elif indicatorFunction=='PPO':\n",
    "        indicatorUrl += '&fastperiod=12&slowperiod=26&matype=0'\n",
    "    elif indicatorFunction=='MOM':\n",
    "        indicatorUrl += '&time_period=10'\n",
    "    elif indicatorFunction=='BOP':\n",
    "        indicatorUrl += ''\n",
    "    elif indicatorFunction=='CCI':\n",
    "        indicatorUrl += '&time_period=10'\n",
    "    elif indicatorFunction=='CMO':\n",
    "        indicatorUrl += '&time_period=10'\n",
    "    elif indicatorFunction=='CCI':\n",
    "        indicatorUrl += '&time_period=10'\n",
    "    elif indicatorFunction=='ROC':\n",
    "        indicatorUrl += '&time_period=10'\n",
    "    elif indicatorFunction=='ROCR':\n",
    "        indicatorUrl += '&time_period=10'\n",
    "    elif indicatorFunction=='AROON':\n",
    "        indicatorUrl += '&time_period=14'\n",
    "    elif indicatorFunction=='AROONOSC':\n",
    "        indicatorUrl += '&time_period=10'\n",
    "    elif indicatorFunction=='MFI':\n",
    "        indicatorUrl += '&time_period=10'\n",
    "    elif indicatorFunction=='TRIX':\n",
    "        indicatorUrl += '&time_period=10'\n",
    "    elif indicatorFunction=='ULTOSC':\n",
    "        indicatorUrl += '&timeperiod1=7&timeperiod2=14&timeperiod3=28'\n",
    "    elif indicatorFunction=='DX':\n",
    "        indicatorUrl += '&time_period=10'\n",
    "    # TODO: terminar isso aqi\n",
    "    print('Fetching ' + indicatorUrl)\n",
    "    incrementAndVerifyCallsMade();\n",
    "    indicatorRetrieved = requests.get(indicatorUrl).json()\n",
    "    indicators = parseIndicatorRetrieved(indicatorRetrieved['Technical Analysis: ' + indicatorFunction])\n",
    "    print('Retrieved and parsed '+ indicatorUrl)\n",
    "    return indicators\n",
    "\n",
    "# returns [date: [{indicatorFunction: indicatorValue}]]\n",
    "def getIndicatorList(indicatorFunctions, symbol):\n",
    "    indicators = {}\n",
    "    for indicatorFunction in indicatorFunctions:\n",
    "        indicatorDict = getIndicator(indicatorFunction, symbol)\n",
    "        for date, indicator in indicatorDict.items():\n",
    "            for indicatorFunction, indicatorValue in indicator.items():\n",
    "                if  date not in indicators:\n",
    "                    indicators[date] = {}\n",
    "                indicators[date][indicatorFunction] = indicatorValue\n",
    "    return indicators"
   ]
  },
  {
   "cell_type": "code",
   "execution_count": 3,
   "metadata": {},
   "outputs": [],
   "source": [
    "# Filtrando dados válidos - apenas aqueles cujas datas estão na lista de preços e de indicadores\n",
    "def filterData(prices, indicators, indicatorFunctions):\n",
    "    \n",
    "    filteredPrices = {date: price for date, price in prices.items() if date in indicators.keys()}\n",
    "    filteredIndicators = {date: indicators for date, indicators in indicators.items() if date in prices.keys()}\n",
    "    return filteredPrices, filteredIndicators\n",
    "\n",
    "\n",
    "def getData(stockSymbol, indicatorFunctions):\n",
    "    stockPrices = getStockPrice(stockSymbol)\n",
    "    indicators = getIndicatorList(indicatorFunctions, stockSymbol)\n",
    "    stockPrices, indicators = filterData(stockPrices, indicators, indicatorFunctions)\n",
    "    return stockPrices, indicators\n",
    "\n",
    "def getForexData(fromForexSymbol, toForexSymbol, indicatorFunctions):\n",
    "    forexPrices = getForexPrice(fromForexSymbol, toForexSymbol)\n",
    "    indicators = getIndicatorList(indicatorFunctions, fromForexSymbol + toForexSymbol)\n",
    "    forexPrices, indicators = filterData(forexPrices, indicators)\n",
    "    return forexPrices, indicators"
   ]
  },
  {
   "cell_type": "markdown",
   "metadata": {},
   "source": [
    "### Métodos de anotação de dados"
   ]
  },
  {
   "cell_type": "code",
   "execution_count": 4,
   "metadata": {},
   "outputs": [],
   "source": [
    "import collections\n",
    "\n",
    "def annotateBuyOrSell(prices):\n",
    "    dateAnnotated = {}\n",
    "    yesterdayDate = ''\n",
    "    yesterdayPrice = 0\n",
    "    for key, value in prices.items():\n",
    "        yesterdayDate = key\n",
    "        yesterdayPrice = value\n",
    "        break\n",
    "    for date, price in prices.items():\n",
    "        if price > yesterdayPrice:\n",
    "            dateAnnotated[yesterdayDate] = 'B'\n",
    "        elif price < yesterdayPrice:\n",
    "            dateAnnotated[yesterdayDate] = 'S'\n",
    "        yesterdayDate = date\n",
    "        yesterdayPrice = price\n",
    "    return dateAnnotated\n",
    "\n",
    "def annotateMaxProfit(prices):\n",
    "    dateAnnotated = {}\n",
    "    yesterdayDate = ''\n",
    "    yesterdayPrice = 0\n",
    "    currentStatus = ''\n",
    "    for key, value in prices.items():\n",
    "        yesterdayDate = key\n",
    "        yesterdayPrice = value\n",
    "        break\n",
    "    for date, price in prices.items():\n",
    "        if price > yesterdayPrice and currentStatus != 'B':\n",
    "            dateAnnotated[yesterdayDate] = 'B'\n",
    "            currentStatus = 'B'\n",
    "        elif price < yesterdayPrice and currentStatus != 'S':\n",
    "            dateAnnotated[yesterdayDate] = 'S'\n",
    "            currentStatus = 'S'\n",
    "        yesterdayDate = date\n",
    "        yesterdayPrice = price\n",
    "    return dateAnnotated"
   ]
  },
  {
   "cell_type": "markdown",
   "metadata": {},
   "source": [
    "### Normalização dos dados"
   ]
  },
  {
   "cell_type": "code",
   "execution_count": 5,
   "metadata": {},
   "outputs": [],
   "source": [
    "# Dúvida - como faremos a normalização?\n",
    "# Ideia: normalizarmos de acordo com o preço da ação no momento\n",
    "\n",
    "# Exemplo: temos o valor de uma ação atualmente em R$3.00, mas sua média dos últimos 10 dias é de R$2.90,\n",
    "# logo esta ação está aumentando de valor. Se normalizarmos todos os indicadores de acordo com o preço atual\n",
    "# da ação podemos ter mais sucesso, pois no momento de atuação do modelo tudo que ele terá acesso será o preço \n",
    "# atual da ação e seus indicadores... Normalizar de acordo com um teto e piso de valores acho que pode dar ruim.\n",
    "\n",
    "import copy\n",
    "\n",
    "# Normaliza um conjunto de indicadores a partir do preço da ação\n",
    "def normalizeIndicators(indicatorSet, stockPrice):\n",
    "    normalizedIndicatorSet = {}\n",
    "    for indicatorFunction, indicatorValue in indicatorSet.items():\n",
    "        normalizedIndicatorSet[indicatorFunction] = float(indicatorValue)/float(stockPrice)\n",
    "    return normalizedIndicatorSet\n",
    "\n",
    "# Retorna os indicadores normalizados: indicadores = [date: {indicators: ['SMA': 0.89, 'EMA': 0.93], annotation: 'B'}]\n",
    "def getIndicatorsNormalizedAndAnnotaded(stockPrices, indicators, dateAnnotated):\n",
    "    print('Normalizing and annotating indicators')\n",
    "    indicatorsAnnotated = {}\n",
    "    for date, annotation in dateAnnotated.items():\n",
    "        if date not in indicatorsAnnotated:\n",
    "            indicatorsAnnotated[date] = {'indicators': {}, 'annotation': ''}\n",
    "        indicatorsAnnotated[date]['indicators'] = normalizeIndicators(indicators[date], stockPrices[date])\n",
    "        indicatorsAnnotated[date]['annotation'] = annotation\n",
    "    return indicatorsAnnotated\n",
    "\n",
    "# Deprecated\n",
    "def normalizeIndicatorsOld(indicatorsAnnotated):\n",
    "    normalizedIndicators = {'B': [], 'S': []}\n",
    "    for indicatorSet in indicatorsAnnotated['B']:\n",
    "        normalizedIndicatorSet = []\n",
    "        for indicator, value in indicatorSet.items():\n",
    "            print(indicator)\n",
    "            normalizedIndicatorSet.append({indicator: value/1000})\n",
    "        normalizedIndicators[B].append(normalizedIndicatorSet)\n",
    "    for indicators in indicatorsAnnotated['S']:\n",
    "        print(indicators)"
   ]
  },
  {
   "cell_type": "markdown",
   "metadata": {},
   "source": [
    "### Machine Learning"
   ]
  },
  {
   "cell_type": "code",
   "execution_count": 6,
   "metadata": {},
   "outputs": [],
   "source": [
    "# from sklearn.model_selection import train_test_split\n",
    "\n",
    "# def getTrainAndTestData(normalizedData):\n",
    "#     train, test = train_test_split(df, test_size=0.2)\n",
    "#     return train, test\n",
    "\n",
    "# def trainModel(train):\n",
    "#     return None\n",
    "\n",
    "# def testModel(test):\n",
    "#     return None"
   ]
  },
  {
   "cell_type": "markdown",
   "metadata": {},
   "source": [
    "### Análise de dados"
   ]
  },
  {
   "cell_type": "code",
   "execution_count": 7,
   "metadata": {},
   "outputs": [],
   "source": [
    "def analyze(analytics):\n",
    "    print('some analytics')"
   ]
  },
  {
   "cell_type": "markdown",
   "metadata": {},
   "source": [
    "### Main"
   ]
  },
  {
   "cell_type": "code",
   "execution_count": 8,
   "metadata": {},
   "outputs": [
    {
     "name": "stdout",
     "output_type": "stream",
     "text": [
      "Fetching https://www.alphavantage.co/query?&outputsize=full&apikey=3GX5M109KQK9B6HO&function=TIME_SERIES_DAILY&symbol=MSFT\n",
      "Retrieved and parsed https://www.alphavantage.co/query?&outputsize=full&apikey=3GX5M109KQK9B6HO&function=TIME_SERIES_DAILY&symbol=MSFT\n",
      "Fetching https://www.alphavantage.co/query?&outputsize=full&apikey=3GX5M109KQK9B6HO&interval=daily&series_type=open&function=SMA&symbol=MSFT&time_period=10\n",
      "Retrieved and parsed https://www.alphavantage.co/query?&outputsize=full&apikey=3GX5M109KQK9B6HO&interval=daily&series_type=open&function=SMA&symbol=MSFT&time_period=10\n",
      "Fetching https://www.alphavantage.co/query?&outputsize=full&apikey=3GX5M109KQK9B6HO&interval=daily&series_type=open&function=EMA&symbol=MSFT&time_period=10\n",
      "Retrieved and parsed https://www.alphavantage.co/query?&outputsize=full&apikey=3GX5M109KQK9B6HO&interval=daily&series_type=open&function=EMA&symbol=MSFT&time_period=10\n",
      "Fetching https://www.alphavantage.co/query?&outputsize=full&apikey=3GX5M109KQK9B6HO&interval=daily&series_type=open&function=WMA&symbol=MSFT&time_period=10\n",
      "Retrieved and parsed https://www.alphavantage.co/query?&outputsize=full&apikey=3GX5M109KQK9B6HO&interval=daily&series_type=open&function=WMA&symbol=MSFT&time_period=10\n",
      "Normalizing and annotating indicators\n"
     ]
    }
   ],
   "source": [
    "# Cheat-sheet com os simbolos\n",
    "__indicatorSymbols = ['SMA', 'EMA', 'WMA', 'DEMA', 'TEMA', 'TRIMA', 'KAMA', 'MAMA',\n",
    "                      'T3', 'MACD', 'MACDEXT', 'STOCH', 'STOCHF', 'RSI', 'STOCHRSI', 'WILLR', \n",
    "                      'ADX', 'ADXR', 'APO', 'PPO', 'MOM', 'BOP', 'CCI', 'CMO', 'ROC', 'ROCR',\n",
    "                      'AROON', 'AROONOSC', 'MFI', 'TRIX', 'ULTOSC', 'DX', 'MINUS_DI', 'PLUS_DI',\n",
    "                      'MINUS_DM', 'PLUS_DM', 'BBANDS', 'MIDPOINT', 'SAR', 'TRANGE', 'ATR',\n",
    "                      'NATR', 'AD', 'ADOSC', 'OBV', 'HT_TRENDLINE', 'HT_SINE', 'HT_TRENDMODE',\n",
    "                      'HT_DCPERIOD', 'HT_DCPHASE', 'HT_PHASOR']\n",
    "__forexSymbols = ['BRL', 'EUR']\n",
    "__stockSymbols = ['MSFT']\n",
    "\n",
    "# Definindo simbolos para o modelo\n",
    "indicatorFunctions = ['SMA', 'EMA', 'WMA']\n",
    "# fromForexSymbol = 'USD'\n",
    "# toForexSymbol = 'BRL'\n",
    "stockSymbol = 'MSFT'\n",
    "\n",
    "stockPrices, indicators = getData(stockSymbol, indicatorFunctions)\n",
    "# forexPrices, indicators = getForexData(fromForexSymbol, toForexSymbol, indicatorFunctions)\n",
    "dateAnnotated = annotateBuyOrSell(stockPrices)\n",
    "# dateAnnotated = annotateMaxProfit(stockPrices)\n",
    "normalizedIndicators = getIndicatorsNormalizedAndAnnotaded(stockPrices, indicators, dateAnnotated)\n",
    "# train, test = getTrainAndTestData(normalizedIndicators)\n",
    "# model = trainModel(train)\n",
    "# analytics = testModel(model, testData)\n",
    "# analyze(analytics)"
   ]
  }
 ],
 "metadata": {
  "kernelspec": {
   "display_name": "Python 3",
   "language": "python",
   "name": "python3"
  },
  "language_info": {
   "codemirror_mode": {
    "name": "ipython",
    "version": 3
   },
   "file_extension": ".py",
   "mimetype": "text/x-python",
   "name": "python",
   "nbconvert_exporter": "python",
   "pygments_lexer": "ipython3",
   "version": "3.7.3"
  }
 },
 "nbformat": 4,
 "nbformat_minor": 2
}
