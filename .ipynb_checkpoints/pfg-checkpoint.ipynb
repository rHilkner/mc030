{
 "cells": [
  {
   "cell_type": "markdown",
   "metadata": {},
   "source": [
    "# MC030 - Projeto final de Graduação\n",
    "## Análise e Previsão do Mercado de Ações"
   ]
  },
  {
   "cell_type": "markdown",
   "metadata": {},
   "source": [
    "## Descrição do modelo\n",
    "\n",
    "A partir de um conjunto de cotações diárias de dólar para real (USD-BRL) desejamos modelar esse comportamento a partir de uma série de indicadores de mercado financeiro para classificarmos cada dia como um momento de compra ou momento de venda."
   ]
  },
  {
   "cell_type": "markdown",
   "metadata": {},
   "source": [
    "# ..."
   ]
  },
  {
   "cell_type": "markdown",
   "metadata": {},
   "source": [
    "# Código"
   ]
  },
  {
   "cell_type": "markdown",
   "metadata": {},
   "source": [
    "### Definindo endpoints da API (https://www.alphavantage.co/documentation/)"
   ]
  },
  {
   "cell_type": "code",
   "execution_count": 25,
   "metadata": {},
   "outputs": [],
   "source": [
    "apiToken = '3GX5M109KQK9B6HO'\n",
    "baseUrl = 'https://www.alphavantage.co/query?&outputsize=full&apikey=' + apiToken\n",
    "usdBrlUrl = 'https://www.alphavantage.co/query?function=FX_DAILY&from_symbol=USD&to_symbol=BRL&outputsize=full&apikey=' + apiToken\n",
    "stockUrl = 'https://www.alphavantage.co/query?function=TIME_SERIES_DAILY&symbol=MSFT&outputsize=full&apikey=demo'\n"
   ]
  },
  {
   "cell_type": "markdown",
   "metadata": {},
   "source": [
    "### Obtendo dados da API"
   ]
  },
  {
   "cell_type": "code",
   "execution_count": 26,
   "metadata": {},
   "outputs": [],
   "source": [
    "import requests\n",
    "import json\n",
    "\n",
    "def parsePriceRetrieved(stocksRetrieved):\n",
    "    stockPrices = []\n",
    "    for date, candle in stocksRetrieved.items():\n",
    "        stockPrices[date] = candle['open']\n",
    "    return stockPrices\n",
    "    \n",
    "def parseIndicatorRetrieved(indicatorsRetrieved):\n",
    "    indicatorValues = []\n",
    "    for date, indicator in stocksRetrieved.items():\n",
    "        for indicatorSymbol, indicatorValue in indicator:\n",
    "            indicatorValues[date] = {indicatorSymbol: indicator[indicatorSymbol]}\n",
    "    return indicatorValues\n",
    "\n",
    "# returns [{date: price}]\n",
    "def getStockPrice(stockSymbol):\n",
    "    indicatorUrl = baseUrl + '&function=TIME_SERIES_DAILY&symbol=' + stockSymbol\n",
    "    try:\n",
    "        print('Fetching' + indicatorUrl)\n",
    "        stocksRetrieved = requests.get(indicatorUrl).json();\n",
    "        return parsePriceRetrieved(stocksRetrieved)\n",
    "    except:\n",
    "        print('Exception on getting stock price')\n",
    "\n",
    "# returns [{date: price}]\n",
    "def getForexPrice(fromSymbol, toSymbol):\n",
    "    indicatorUrl = baseUrl + '&function=FX_DAILY&from_symbol=' + fromSymbol + '&to_symbol=' + toSymbol\n",
    "    try:\n",
    "        forexRetrieved = requests.get(indicatorUrl).json();\n",
    "        return parsePriceRetrieved(forexRetrieved)\n",
    "    except:\n",
    "        print('Exception on getting forex price')\n",
    "\n",
    "# returns [date: [{indicatorFunction: indicatorValue}]]\n",
    "def getIndicator(indicatorFunction, symbol):\n",
    "    indicatorUrl = baseUrl + '&interval=daily&series_type=open&function=' + indicatorFunction + '&symbol=' + symbol\n",
    "    if indicatorFunction=='SMA':\n",
    "        indicatorUrl += '&time_period=10'\n",
    "    elif indicatorFunction=='EMA':\n",
    "        indicatorUrl += '&time_period=10'\n",
    "    elif indicatorFunction=='WMA':\n",
    "        indicatorUrl += '&time_period=10'\n",
    "    elif indicatorFunction=='DEMA':\n",
    "        indicatorUrl += '&time_period=10'\n",
    "    elif indicatorFunction=='TEMA':\n",
    "        indicatorUrl += '&time_period=10'\n",
    "    elif indicatorFunction=='TRIMA':\n",
    "        indicatorUrl += '&time_period=10'\n",
    "    elif indicatorFunction=='KAMA':\n",
    "        indicatorUrl += '&time_period=10'\n",
    "    elif indicatorFunction=='MAMA':\n",
    "        indicatorUrl += '&fastlimit=0.01&slowlimit=0.01'\n",
    "    elif indicatorFunction=='T3':\n",
    "        indicatorUrl += '&time_period=10'\n",
    "    elif indicatorFunction=='MACD':\n",
    "        indicatorUrl += '&fastperiod=12&slowperiod=26&signalperiod=9'\n",
    "    elif indicatorFunction=='MACDEXT':\n",
    "        indicatorUrl += '&fastperiod=12&slowperiod=26&signalperiod=9&fastmatype=0&slowmatype=0&signalmatype=0'\n",
    "    # TODO: terminar isso aqi\n",
    "    try:\n",
    "        indicatorRetrieved = requests.get(indicatorUrl).json();\n",
    "        return parseIndicatorRetrieved(indicatorRetrieved)\n",
    "    except:\n",
    "        print('Exception on getting indicator')\n",
    "\n",
    "# returns [date: [{indicatorFunction: indicatorValue}]]\n",
    "def getIndicatorList(indicatorFunctions, symbol):\n",
    "    indicators = [{}]\n",
    "    for indicatorFunction in indicatorFunctions:\n",
    "        indicatorSet = getIndicator(indicatorFunction, symbol)\n",
    "        print(indicatorSet)\n",
    "        for date, indicator in indicatorSet:\n",
    "            for indicatorFunction, indicatorValue in indicator:\n",
    "                indicators[date].append({indicatorFunction: indicatorValue})\n",
    "        indicators[symbol] = getIndicator(indicatorFunction, symbol)\n",
    "    return indicators"
   ]
  },
  {
   "cell_type": "code",
   "execution_count": 27,
   "metadata": {},
   "outputs": [],
   "source": [
    "# Filtrando dados válidos - apenas aqueles cujas datas estão na lista de preços e de indicadores\n",
    "def filterData(prices, indicators):\n",
    "    filteredPrices = {date: price for date, price in prices.items() if date in indicators.keys()}\n",
    "    filteredIndicators = {date: indicators for date, indicators in indicators.items() if date in prices.keys()}\n",
    "    return filteredPrices, filteredIndicators\n",
    "\n",
    "\n",
    "def getData(stockSymbol, indicatorFunctions):\n",
    "    stockPrices = getStockPrice(stockSymbol)\n",
    "    indicators = getIndicatorList(indicatorFunctions, stockSymbol)\n",
    "    stockPrices, indicators = filterData(stockPrices, indicators)\n",
    "    return stockPrices, indicators\n",
    "\n",
    "def getForexData(fromForexSymbol, toForexSymbol, indicatorFunctions):\n",
    "    forexPrices = getForexPrice(fromForexSymbol, toForexSymbol)\n",
    "    indicators = getIndicatorList(indicatorFunctions, fromForexSymbol + toForexSymbol)\n",
    "    forexPrices, indicators = filterData(forexPrices, indicators)\n",
    "    return forexPrices, indicators"
   ]
  },
  {
   "cell_type": "markdown",
   "metadata": {},
   "source": [
    "### Métodos de anotação de dados"
   ]
  },
  {
   "cell_type": "code",
   "execution_count": 28,
   "metadata": {},
   "outputs": [],
   "source": [
    "import collections\n",
    "\n",
    "def annotateBuyOrSell(prices):\n",
    "    dateAnnotated = []\n",
    "    yesterdayDate = ''\n",
    "    yesterdayPrice = 0\n",
    "    for key, value in prices:\n",
    "        yesterdayDate = key\n",
    "        yesterdayPrice = value\n",
    "        break\n",
    "    for date, price in prices:\n",
    "        if price > yesterdayPrice:\n",
    "            dateAnnotated[yesterdayDate] = 'B'\n",
    "        elif price < yesterdayPrice:\n",
    "            dateAnnotated[yesterdayDate] = 'S'\n",
    "        yesterdayDate = date\n",
    "        yesterdayPrice = price\n",
    "    return dateAnnotated\n",
    "\n",
    "def annotateMaxProfit(prices):\n",
    "    dateAnnotated = []\n",
    "    yesterdayDate = ''\n",
    "    yesterdayPrice = 0\n",
    "    currentStatus = ''\n",
    "    for key, value in prices:\n",
    "        yesterdayDate = key\n",
    "        yesterdayPrice = value\n",
    "        break\n",
    "    for date, price in prices:\n",
    "        if price > yesterdayPrice and currentStatus != 'B':\n",
    "            dateAnnotated[yesterdayDate] = 'B'\n",
    "            currentStatus = 'B'\n",
    "        elif price < yesterdayPrice and currentStatus != 'S':\n",
    "            dateAnnotated[yesterdayDate] = 'S'\n",
    "            currentStatus = 'S'\n",
    "        yesterdayDate = date\n",
    "        yesterdayPrice = price\n",
    "    return dateAnnotated"
   ]
  },
  {
   "cell_type": "markdown",
   "metadata": {},
   "source": [
    "### Normalização dos dados"
   ]
  },
  {
   "cell_type": "code",
   "execution_count": 29,
   "metadata": {},
   "outputs": [],
   "source": [
    "# Dúvida - como faremos a normalização?\n",
    "# Ideia: normalizarmos de acordo com o preço da ação no momento\n",
    "\n",
    "# Exemplo: temos o valor de uma ação atualmente em R$3.00, mas sua média dos últimos 10 dias é de R$2.90,\n",
    "# logo esta ação está aumentando de valor. Se normalizarmos todos os indicadores de acordo com o preço atual\n",
    "# da ação podemos ter mais sucesso, pois no momento de atuação do modelo tudo que ele terá acesso será o preço \n",
    "# atual da ação e seus indicadores... Normalizar de acordo com um teto e piso de valores acho que pode dar ruim.\n",
    "\n",
    "import copy\n",
    "\n",
    "# Normaliza um conjunto de indicadores a partir do preço da ação\n",
    "def normalizeIndicators(indicatorSet, stockPrice):\n",
    "    normalizedIndicatorSet = []\n",
    "    for indicatorFunction, indicatorValue in indicatorSet:\n",
    "        normalizedIndicatorSet[indicatorFunction] = indicatorValue/stockPrice\n",
    "    return normalizedIndicatorSet\n",
    "\n",
    "# Retorna os indicadores normalizados: indicadores = [date: {indicators: ['SMA': 0.89, 'EMA': 0.93], annotation: 'B'}]\n",
    "def getIndicatorsNormalizedAndAnnotaded(stockPrices, indicators, dateAnnotated):\n",
    "    indicatorsAnnotated = []\n",
    "    for date, annotation in dateAnnotated:\n",
    "        indicatorsAnnotated[date]['indicators'] = normalizeIndicators(indicators[date], stockPrices[date])\n",
    "        indicatorsAnnotated[date]['annotation'] = annotation\n",
    "\n",
    "# Deprecated\n",
    "def normalizeIndicatorsOld(indicatorsAnnotated):\n",
    "    normalizedIndicators = {'B': [], 'S': []}\n",
    "    for indicatorSet in indicatorsAnnotated['B']:\n",
    "        normalizedIndicatorSet = []\n",
    "        for indicator, value in indicatorSet:\n",
    "            print(indicator)\n",
    "            normalizedIndicatorSet.append({indicator: value/1000})\n",
    "        normalizedIndicators[B].append(normalizedIndicatorSet)\n",
    "    for indicators in indicatorsAnnotated['S']:\n",
    "        print(indicators)"
   ]
  },
  {
   "cell_type": "markdown",
   "metadata": {},
   "source": [
    "### Machine Learning"
   ]
  },
  {
   "cell_type": "code",
   "execution_count": 30,
   "metadata": {},
   "outputs": [],
   "source": [
    "# from sklearn.model_selection import train_test_split\n",
    "\n",
    "# def getTrainAndTestData(normalizedData):\n",
    "#     train, test = train_test_split(df, test_size=0.2)\n",
    "#     return train, test\n",
    "\n",
    "# def trainModel(train):\n",
    "#     return None\n",
    "\n",
    "# def testModel(test):\n",
    "#     return None"
   ]
  },
  {
   "cell_type": "markdown",
   "metadata": {},
   "source": [
    "### Análise de dados"
   ]
  },
  {
   "cell_type": "code",
   "execution_count": 31,
   "metadata": {},
   "outputs": [],
   "source": [
    "def analyze(analytics):\n",
    "    print('some analytics')"
   ]
  },
  {
   "cell_type": "markdown",
   "metadata": {},
   "source": [
    "### Main"
   ]
  },
  {
   "cell_type": "code",
   "execution_count": 32,
   "metadata": {},
   "outputs": [
    {
     "name": "stdout",
     "output_type": "stream",
     "text": [
      "Exception on getting stock price\n",
      "Exception on getting indicator\n",
      "None\n"
     ]
    },
    {
     "ename": "TypeError",
     "evalue": "'NoneType' object is not iterable",
     "output_type": "error",
     "traceback": [
      "\u001b[0;31m---------------------------------------------------------------------------\u001b[0m",
      "\u001b[0;31mTypeError\u001b[0m                                 Traceback (most recent call last)",
      "\u001b[0;32m<ipython-input-32-ce7e3643f184>\u001b[0m in \u001b[0;36m<module>\u001b[0;34m\u001b[0m\n\u001b[1;32m     16\u001b[0m \u001b[0mstockSymbol\u001b[0m \u001b[0;34m=\u001b[0m \u001b[0;34m'MSFT'\u001b[0m\u001b[0;34m\u001b[0m\u001b[0;34m\u001b[0m\u001b[0m\n\u001b[1;32m     17\u001b[0m \u001b[0;34m\u001b[0m\u001b[0m\n\u001b[0;32m---> 18\u001b[0;31m \u001b[0mstockPrices\u001b[0m\u001b[0;34m,\u001b[0m \u001b[0mindicators\u001b[0m \u001b[0;34m=\u001b[0m \u001b[0mgetData\u001b[0m\u001b[0;34m(\u001b[0m\u001b[0mstockSymbol\u001b[0m\u001b[0;34m,\u001b[0m \u001b[0mindicatorFunctions\u001b[0m\u001b[0;34m)\u001b[0m\u001b[0;34m\u001b[0m\u001b[0;34m\u001b[0m\u001b[0m\n\u001b[0m\u001b[1;32m     19\u001b[0m \u001b[0;31m# forexPrices, indicators = getForexData(fromForexSymbol, toForexSymbol, indicatorFunctions)\u001b[0m\u001b[0;34m\u001b[0m\u001b[0;34m\u001b[0m\u001b[0;34m\u001b[0m\u001b[0m\n\u001b[1;32m     20\u001b[0m \u001b[0mdateAnnotated\u001b[0m \u001b[0;34m=\u001b[0m \u001b[0mannotateBuyOrSell\u001b[0m\u001b[0;34m(\u001b[0m\u001b[0mstockPrices\u001b[0m\u001b[0;34m)\u001b[0m\u001b[0;34m\u001b[0m\u001b[0;34m\u001b[0m\u001b[0m\n",
      "\u001b[0;32m<ipython-input-27-9b760abfc1d0>\u001b[0m in \u001b[0;36mgetData\u001b[0;34m(stockSymbol, indicatorFunctions)\u001b[0m\n\u001b[1;32m      8\u001b[0m \u001b[0;32mdef\u001b[0m \u001b[0mgetData\u001b[0m\u001b[0;34m(\u001b[0m\u001b[0mstockSymbol\u001b[0m\u001b[0;34m,\u001b[0m \u001b[0mindicatorFunctions\u001b[0m\u001b[0;34m)\u001b[0m\u001b[0;34m:\u001b[0m\u001b[0;34m\u001b[0m\u001b[0;34m\u001b[0m\u001b[0m\n\u001b[1;32m      9\u001b[0m     \u001b[0mstockPrices\u001b[0m \u001b[0;34m=\u001b[0m \u001b[0mgetStockPrice\u001b[0m\u001b[0;34m(\u001b[0m\u001b[0mstockSymbol\u001b[0m\u001b[0;34m)\u001b[0m\u001b[0;34m\u001b[0m\u001b[0;34m\u001b[0m\u001b[0m\n\u001b[0;32m---> 10\u001b[0;31m     \u001b[0mindicators\u001b[0m \u001b[0;34m=\u001b[0m \u001b[0mgetIndicatorList\u001b[0m\u001b[0;34m(\u001b[0m\u001b[0mindicatorFunctions\u001b[0m\u001b[0;34m,\u001b[0m \u001b[0mstockSymbol\u001b[0m\u001b[0;34m)\u001b[0m\u001b[0;34m\u001b[0m\u001b[0;34m\u001b[0m\u001b[0m\n\u001b[0m\u001b[1;32m     11\u001b[0m     \u001b[0mstockPrices\u001b[0m\u001b[0;34m,\u001b[0m \u001b[0mindicators\u001b[0m \u001b[0;34m=\u001b[0m \u001b[0mfilterData\u001b[0m\u001b[0;34m(\u001b[0m\u001b[0mstockPrices\u001b[0m\u001b[0;34m,\u001b[0m \u001b[0mindicators\u001b[0m\u001b[0;34m)\u001b[0m\u001b[0;34m\u001b[0m\u001b[0;34m\u001b[0m\u001b[0m\n\u001b[1;32m     12\u001b[0m     \u001b[0;32mreturn\u001b[0m \u001b[0mstockPrices\u001b[0m\u001b[0;34m,\u001b[0m \u001b[0mindicators\u001b[0m\u001b[0;34m\u001b[0m\u001b[0;34m\u001b[0m\u001b[0m\n",
      "\u001b[0;32m<ipython-input-26-4fed3d302eec>\u001b[0m in \u001b[0;36mgetIndicatorList\u001b[0;34m(indicatorFunctions, symbol)\u001b[0m\n\u001b[1;32m     72\u001b[0m         \u001b[0mindicatorSet\u001b[0m \u001b[0;34m=\u001b[0m \u001b[0mgetIndicator\u001b[0m\u001b[0;34m(\u001b[0m\u001b[0mindicatorFunction\u001b[0m\u001b[0;34m,\u001b[0m \u001b[0msymbol\u001b[0m\u001b[0;34m)\u001b[0m\u001b[0;34m\u001b[0m\u001b[0;34m\u001b[0m\u001b[0m\n\u001b[1;32m     73\u001b[0m         \u001b[0mprint\u001b[0m\u001b[0;34m(\u001b[0m\u001b[0mindicatorSet\u001b[0m\u001b[0;34m)\u001b[0m\u001b[0;34m\u001b[0m\u001b[0;34m\u001b[0m\u001b[0m\n\u001b[0;32m---> 74\u001b[0;31m         \u001b[0;32mfor\u001b[0m \u001b[0mdate\u001b[0m\u001b[0;34m,\u001b[0m \u001b[0mindicator\u001b[0m \u001b[0;32min\u001b[0m \u001b[0mindicatorSet\u001b[0m\u001b[0;34m:\u001b[0m\u001b[0;34m\u001b[0m\u001b[0;34m\u001b[0m\u001b[0m\n\u001b[0m\u001b[1;32m     75\u001b[0m             \u001b[0;32mfor\u001b[0m \u001b[0mindicatorFunction\u001b[0m\u001b[0;34m,\u001b[0m \u001b[0mindicatorValue\u001b[0m \u001b[0;32min\u001b[0m \u001b[0mindicator\u001b[0m\u001b[0;34m:\u001b[0m\u001b[0;34m\u001b[0m\u001b[0;34m\u001b[0m\u001b[0m\n\u001b[1;32m     76\u001b[0m                 \u001b[0mindicators\u001b[0m\u001b[0;34m[\u001b[0m\u001b[0mdate\u001b[0m\u001b[0;34m]\u001b[0m\u001b[0;34m.\u001b[0m\u001b[0mappend\u001b[0m\u001b[0;34m(\u001b[0m\u001b[0;34m{\u001b[0m\u001b[0mindicatorFunction\u001b[0m\u001b[0;34m:\u001b[0m \u001b[0mindicatorValue\u001b[0m\u001b[0;34m}\u001b[0m\u001b[0;34m)\u001b[0m\u001b[0;34m\u001b[0m\u001b[0;34m\u001b[0m\u001b[0m\n",
      "\u001b[0;31mTypeError\u001b[0m: 'NoneType' object is not iterable"
     ]
    }
   ],
   "source": [
    "# Cheat-sheet com os simbolos\n",
    "__indicatorSymbols = ['SMA', 'EMA', 'WMA', 'DEMA', 'TEMA', 'TRIMA', 'KAMA', 'MAMA',\n",
    "                      'T3', 'MACD', 'MACDEXT', 'STOCH', 'STOCHF', 'RSI', 'STOCHRSI', 'WILLR', \n",
    "                      'ADX', 'ADXR', 'APO', 'PPO', 'MOM', 'BOP', 'CCI', 'CMO', 'ROC', 'ROCR',\n",
    "                      'AROON', 'AROONOSC', 'MFI', 'TRIX', 'ULTOSC', 'DX', 'MINUS_DI', 'PLUS_DI',\n",
    "                      'MINUS_DM', 'PLUS_DM', 'BBANDS', 'MIDPOINT', 'SAR', 'TRANGE', 'ATR',\n",
    "                      'NATR', 'AD', 'ADOSC', 'OBV', 'HT_TRENDLINE', 'HT_SINE', 'HT_TRENDMODE',\n",
    "                      'HT_DCPERIOD', 'HT_DCPHASE', 'HT_PHASOR']\n",
    "__forexSymbols = ['BRL', 'EUR']\n",
    "__stockSymbols = ['MSFT']\n",
    "\n",
    "# Definindo simbolos para o modelo\n",
    "indicatorFunctions = ['SMA', 'EMA', 'WMA']\n",
    "# fromForexSymbol = 'USD'\n",
    "# toForexSymbol = 'BRL'\n",
    "stockSymbol = 'MSFT'\n",
    "\n",
    "stockPrices, indicators = getData(stockSymbol, indicatorFunctions)\n",
    "# forexPrices, indicators = getForexData(fromForexSymbol, toForexSymbol, indicatorFunctions)\n",
    "dateAnnotated = annotateBuyOrSell(stockPrices)\n",
    "# dateAnnotated = annotateMaxProfit(stockPrices)\n",
    "normalizedIndicators = getIndicatorsNormalizedAndAnnotaded(stockPrices, indicators, dateAnnotated)\n",
    "# train, test = getTrainAndTestData(normalizedIndicators)\n",
    "# model = trainModel(train)\n",
    "# analytics = testModel(model, testData)\n",
    "# analyze(analytics)"
   ]
  }
 ],
 "metadata": {
  "kernelspec": {
   "display_name": "Python 3",
   "language": "python",
   "name": "python3"
  },
  "language_info": {
   "codemirror_mode": {
    "name": "ipython",
    "version": 3
   },
   "file_extension": ".py",
   "mimetype": "text/x-python",
   "name": "python",
   "nbconvert_exporter": "python",
   "pygments_lexer": "ipython3",
   "version": "3.7.3"
  }
 },
 "nbformat": 4,
 "nbformat_minor": 2
}
